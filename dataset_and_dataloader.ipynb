{
 "cells": [
  {
   "cell_type": "markdown",
   "id": "8bc74d64-5283-434e-b180-909fa55c9f02",
   "metadata": {},
   "source": [
    "# Youtube Tutorial"
   ]
  },
  {
   "cell_type": "code",
   "execution_count": 26,
   "id": "c846738d-28dc-4fe0-aa8c-0525c5a7aa12",
   "metadata": {},
   "outputs": [],
   "source": [
    "import torch\n",
    "import torch.nn as nn\n",
    "import torchvision\n",
    "from torch.utils.data import Dataset, DataLoader\n",
    "import numpy as np\n",
    "import math\n",
    "import matplotlib.pyplot as plt"
   ]
  },
  {
   "cell_type": "code",
   "execution_count": 2,
   "id": "f94b35a9-6745-43b1-ba73-9b1c84333bfd",
   "metadata": {},
   "outputs": [],
   "source": [
    "class WineDataset(Dataset):\n",
    "    def __init__(self):\n",
    "        data = np.loadtxt(\"./data/wine.csv\", delimiter = \",\", dtype = np.float32, skiprows = 1)\n",
    "        self.x = torch.from_numpy(data[:, 1:])\n",
    "        self.y = torch.from_numpy(data[:, [0]])\n",
    "        self.n_samples = data.shape[0]\n",
    "\n",
    "    def __getitem__(self, index):\n",
    "        return self.x[index], self.y[index]\n",
    "\n",
    "    def __len__(self):\n",
    "        return self.n_samples"
   ]
  },
  {
   "cell_type": "code",
   "execution_count": 3,
   "id": "f7a9bd06-d707-47ff-b6c0-03da51896768",
   "metadata": {},
   "outputs": [],
   "source": [
    "dataset = WineDataset()"
   ]
  },
  {
   "cell_type": "code",
   "execution_count": 4,
   "id": "d5d8f4f7-f298-40ff-857e-e24590dc7d70",
   "metadata": {},
   "outputs": [
    {
     "data": {
      "text/plain": [
       "<__main__.WineDataset at 0x1f9bdc9d0a0>"
      ]
     },
     "execution_count": 4,
     "metadata": {},
     "output_type": "execute_result"
    }
   ],
   "source": [
    "dataset"
   ]
  },
  {
   "cell_type": "code",
   "execution_count": 5,
   "id": "986360a9-bec9-4bd0-9e51-4564c398b243",
   "metadata": {},
   "outputs": [
    {
     "data": {
      "text/plain": [
       "(tensor([1.4230e+01, 1.7100e+00, 2.4300e+00, 1.5600e+01, 1.2700e+02, 2.8000e+00,\n",
       "         3.0600e+00, 2.8000e-01, 2.2900e+00, 5.6400e+00, 1.0400e+00, 3.9200e+00,\n",
       "         1.0650e+03]),\n",
       " tensor([1.]))"
      ]
     },
     "execution_count": 5,
     "metadata": {},
     "output_type": "execute_result"
    }
   ],
   "source": [
    "dataset[0]"
   ]
  },
  {
   "cell_type": "code",
   "execution_count": 6,
   "id": "ae66098a-73bf-485b-bdd7-a94250f03059",
   "metadata": {},
   "outputs": [],
   "source": [
    "dataloader = DataLoader(dataset = dataset, batch_size = 4, shuffle = True)"
   ]
  },
  {
   "cell_type": "code",
   "execution_count": 7,
   "id": "3897e1fa-5eef-480c-8b09-c17a56c130de",
   "metadata": {},
   "outputs": [
    {
     "data": {
      "text/plain": [
       "<torch.utils.data.dataloader.DataLoader at 0x1f9acfd6c90>"
      ]
     },
     "execution_count": 7,
     "metadata": {},
     "output_type": "execute_result"
    }
   ],
   "source": [
    "dataloader"
   ]
  },
  {
   "cell_type": "code",
   "execution_count": 8,
   "id": "1a7d77e3-4138-4602-b0ca-f9340194e23e",
   "metadata": {},
   "outputs": [],
   "source": [
    "features, labels = next(iter(dataloader))"
   ]
  },
  {
   "cell_type": "code",
   "execution_count": 9,
   "id": "c6761686-54c0-4ee1-a8e0-1606cb77f5b7",
   "metadata": {},
   "outputs": [
    {
     "data": {
      "text/plain": [
       "tensor([[1.4370e+01, 1.9500e+00, 2.5000e+00, 1.6800e+01, 1.1300e+02, 3.8500e+00,\n",
       "         3.4900e+00, 2.4000e-01, 2.1800e+00, 7.8000e+00, 8.6000e-01, 3.4500e+00,\n",
       "         1.4800e+03],\n",
       "        [1.2330e+01, 1.1000e+00, 2.2800e+00, 1.6000e+01, 1.0100e+02, 2.0500e+00,\n",
       "         1.0900e+00, 6.3000e-01, 4.1000e-01, 3.2700e+00, 1.2500e+00, 1.6700e+00,\n",
       "         6.8000e+02],\n",
       "        [1.1660e+01, 1.8800e+00, 1.9200e+00, 1.6000e+01, 9.7000e+01, 1.6100e+00,\n",
       "         1.5700e+00, 3.4000e-01, 1.1500e+00, 3.8000e+00, 1.2300e+00, 2.1400e+00,\n",
       "         4.2800e+02],\n",
       "        [1.2870e+01, 4.6100e+00, 2.4800e+00, 2.1500e+01, 8.6000e+01, 1.7000e+00,\n",
       "         6.5000e-01, 4.7000e-01, 8.6000e-01, 7.6500e+00, 5.4000e-01, 1.8600e+00,\n",
       "         6.2500e+02]])"
      ]
     },
     "execution_count": 9,
     "metadata": {},
     "output_type": "execute_result"
    }
   ],
   "source": [
    "features"
   ]
  },
  {
   "cell_type": "code",
   "execution_count": 10,
   "id": "1ced0f56-d697-4bf6-82fb-32e52e18dee5",
   "metadata": {},
   "outputs": [
    {
     "data": {
      "text/plain": [
       "tensor([[1.],\n",
       "        [2.],\n",
       "        [2.],\n",
       "        [3.]])"
      ]
     },
     "execution_count": 10,
     "metadata": {},
     "output_type": "execute_result"
    }
   ],
   "source": [
    "labels"
   ]
  },
  {
   "cell_type": "code",
   "execution_count": 11,
   "id": "e8092cac-7639-4b8a-82e3-53cbcbc7f1e1",
   "metadata": {},
   "outputs": [],
   "source": [
    "epochs = 2\n",
    "total_samples = len(dataset)\n",
    "n_iterations = math.ceil(len(dataset) / 4)"
   ]
  },
  {
   "cell_type": "code",
   "execution_count": 12,
   "id": "93a5de15-61d2-4ddd-985d-b5c0ac4a5141",
   "metadata": {},
   "outputs": [
    {
     "data": {
      "text/plain": [
       "'There are total 178 samples in our data and 45 batches'"
      ]
     },
     "execution_count": 12,
     "metadata": {},
     "output_type": "execute_result"
    }
   ],
   "source": [
    "f\"There are total {total_samples} samples in our data and {n_iterations} batches\" "
   ]
  },
  {
   "cell_type": "code",
   "execution_count": 13,
   "id": "207a8758-068f-4875-be8e-d7e55e9b1e5d",
   "metadata": {},
   "outputs": [
    {
     "name": "stdout",
     "output_type": "stream",
     "text": [
      "tensor([[1.2820e+01, 3.3700e+00, 2.3000e+00, 1.9500e+01, 8.8000e+01, 1.4800e+00,\n",
      "         6.6000e-01, 4.0000e-01, 9.7000e-01, 1.0260e+01, 7.2000e-01, 1.7500e+00,\n",
      "         6.8500e+02],\n",
      "        [1.2420e+01, 4.4300e+00, 2.7300e+00, 2.6500e+01, 1.0200e+02, 2.2000e+00,\n",
      "         2.1300e+00, 4.3000e-01, 1.7100e+00, 2.0800e+00, 9.2000e-01, 3.1200e+00,\n",
      "         3.6500e+02],\n",
      "        [1.3360e+01, 2.5600e+00, 2.3500e+00, 2.0000e+01, 8.9000e+01, 1.4000e+00,\n",
      "         5.0000e-01, 3.7000e-01, 6.4000e-01, 5.6000e+00, 7.0000e-01, 2.4700e+00,\n",
      "         7.8000e+02],\n",
      "        [1.3050e+01, 2.0500e+00, 3.2200e+00, 2.5000e+01, 1.2400e+02, 2.6300e+00,\n",
      "         2.6800e+00, 4.7000e-01, 1.9200e+00, 3.5800e+00, 1.1300e+00, 3.2000e+00,\n",
      "         8.3000e+02]])\n",
      "tensor([[3.],\n",
      "        [2.],\n",
      "        [3.],\n",
      "        [1.]])\n"
     ]
    }
   ],
   "source": [
    "for i, (inputs, labels) in enumerate(dataloader):\n",
    "    print(inputs)\n",
    "    print(labels)\n",
    "    break"
   ]
  },
  {
   "cell_type": "code",
   "execution_count": 14,
   "id": "546da8a5-17f5-4de0-8bd4-c7e02c151855",
   "metadata": {
    "scrolled": true
   },
   "outputs": [
    {
     "name": "stdout",
     "output_type": "stream",
     "text": [
      "Epoch 1/2, step 5/45, inputs torch.Size([4, 13])\n",
      "\n",
      "Epoch 1/2, step 10/45, inputs torch.Size([4, 13])\n",
      "\n",
      "Epoch 1/2, step 15/45, inputs torch.Size([4, 13])\n",
      "\n",
      "Epoch 1/2, step 20/45, inputs torch.Size([4, 13])\n",
      "\n",
      "Epoch 1/2, step 25/45, inputs torch.Size([4, 13])\n",
      "\n",
      "Epoch 1/2, step 30/45, inputs torch.Size([4, 13])\n",
      "\n",
      "Epoch 1/2, step 35/45, inputs torch.Size([4, 13])\n",
      "\n",
      "Epoch 1/2, step 40/45, inputs torch.Size([4, 13])\n",
      "\n",
      "Epoch 1/2, step 45/45, inputs torch.Size([2, 13])\n",
      "\n",
      "Epoch 2/2, step 5/45, inputs torch.Size([4, 13])\n",
      "\n",
      "Epoch 2/2, step 10/45, inputs torch.Size([4, 13])\n",
      "\n",
      "Epoch 2/2, step 15/45, inputs torch.Size([4, 13])\n",
      "\n",
      "Epoch 2/2, step 20/45, inputs torch.Size([4, 13])\n",
      "\n",
      "Epoch 2/2, step 25/45, inputs torch.Size([4, 13])\n",
      "\n",
      "Epoch 2/2, step 30/45, inputs torch.Size([4, 13])\n",
      "\n",
      "Epoch 2/2, step 35/45, inputs torch.Size([4, 13])\n",
      "\n",
      "Epoch 2/2, step 40/45, inputs torch.Size([4, 13])\n",
      "\n",
      "Epoch 2/2, step 45/45, inputs torch.Size([2, 13])\n",
      "\n"
     ]
    }
   ],
   "source": [
    "for epoch in range(1, epochs + 1):\n",
    "    for i, (inputs, labels) in enumerate(dataloader):\n",
    "        if (i + 1) % 5 == 0:    \n",
    "            print(f\"Epoch {epoch}/{epochs}, step {i + 1}/{n_iterations}, inputs {inputs.shape}\")\n",
    "            print()"
   ]
  },
  {
   "cell_type": "markdown",
   "id": "9710c759-0c63-4f35-b4c4-3d9810223573",
   "metadata": {},
   "source": [
    "# PyTorch Docs"
   ]
  },
  {
   "cell_type": "code",
   "execution_count": 22,
   "id": "4aca09a0-8f36-4d68-87a7-77928349a3f6",
   "metadata": {},
   "outputs": [],
   "source": [
    "training_data = torchvision.datasets.FashionMNIST(\n",
    "    root = \"data\",\n",
    "    train = True,\n",
    "    # download = True,\n",
    "    transform = torchvision.transforms.ToTensor()\n",
    ")\n",
    "\n",
    "test_data = torchvision.datasets.FashionMNIST(\n",
    "    root = \"data\",\n",
    "    train = False,\n",
    "    # download = True,\n",
    "    transform = torchvision.transforms.ToTensor()\n",
    ")"
   ]
  },
  {
   "cell_type": "code",
   "execution_count": 23,
   "id": "daed5e9d-c35f-43ed-8e0b-c857471b493e",
   "metadata": {},
   "outputs": [
    {
     "data": {
      "text/plain": [
       "Dataset FashionMNIST\n",
       "    Number of datapoints: 60000\n",
       "    Root location: data\n",
       "    Split: Train\n",
       "    StandardTransform\n",
       "Transform: ToTensor()"
      ]
     },
     "execution_count": 23,
     "metadata": {},
     "output_type": "execute_result"
    }
   ],
   "source": [
    "training_data"
   ]
  },
  {
   "cell_type": "code",
   "execution_count": 24,
   "id": "ac6a6e4a-2350-48a1-af89-938c219524c9",
   "metadata": {},
   "outputs": [
    {
     "data": {
      "text/plain": [
       "Dataset FashionMNIST\n",
       "    Number of datapoints: 10000\n",
       "    Root location: data\n",
       "    Split: Test\n",
       "    StandardTransform\n",
       "Transform: ToTensor()"
      ]
     },
     "execution_count": 24,
     "metadata": {},
     "output_type": "execute_result"
    }
   ],
   "source": [
    "test_data"
   ]
  },
  {
   "cell_type": "code",
   "execution_count": 25,
   "id": "15b18439-a368-4cab-bf88-2e9283c1a92a",
   "metadata": {},
   "outputs": [],
   "source": [
    "labels_map = {\n",
    "    0: \"T-Shirt\",\n",
    "    1: \"Trouser\",\n",
    "    2: \"Pullover\",\n",
    "    3: \"Dress\",\n",
    "    4: \"Coat\",\n",
    "    5: \"Sandal\",\n",
    "    6: \"Shirt\",\n",
    "    7: \"Sneaker\",\n",
    "    8: \"Bag\",\n",
    "    9: \"Ankle Boot\",\n",
    "}"
   ]
  },
  {
   "cell_type": "code",
   "execution_count": 91,
   "id": "9add9591-38ca-4513-9be0-0f205ceb9ae7",
   "metadata": {},
   "outputs": [
    {
     "data": {
      "image/png": "[encoded data removed]",
      "text/plain": [
       "<Figure size 1700x700 with 9 Axes>"
      ]
     },
     "metadata": {},
     "output_type": "display_data"
    }
   ],
   "source": [
    "cols, row = 3, 3\n",
    "\n",
    "fig, axes = plt.subplots(cols, row, figsize = (17, 7))\n",
    "\n",
    "axes = axes.flatten()\n",
    "\n",
    "for i in range(cols * row):\n",
    "    sample_index = torch.randint(len(training_data), size = (1,)).item()\n",
    "    tensor, label = training_data[sample_index]\n",
    "    axes[i].imshow(tensor.squeeze())\n",
    "    axes[i].set_title(labels_map[label])\n",
    "    axes[i].axis(\"off\")\n",
    "\n",
    "plt.tight_layout()\n",
    "plt.show()"
   ]
  },
  {
   "cell_type": "code",
   "execution_count": null,
   "id": "56e430b8-8c7e-43d6-b82d-99f36380421b",
   "metadata": {},
   "outputs": [],
   "source": []
  }
 ],
 "metadata": {
  "kernelspec": {
   "display_name": "Python 3 (ipykernel)",
   "language": "python",
   "name": "python3"
  },
  "language_info": {
   "codemirror_mode": {
    "name": "ipython",
    "version": 3
   },
   "file_extension": ".py",
   "mimetype": "text/x-python",
   "name": "python",
   "nbconvert_exporter": "python",
   "pygments_lexer": "ipython3",
   "version": "3.12.6"
  }
 },
 "nbformat": 4,
 "nbformat_minor": 5
}
