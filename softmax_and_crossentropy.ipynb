{
 "cells": [
  {
   "cell_type": "code",
   "execution_count": 13,
   "id": "a93da13d-05a9-4d7b-8883-e9e714b5e7b2",
   "metadata": {},
   "outputs": [],
   "source": [
    "import numpy as np\n",
    "import torch\n",
    "import torch.nn as nn"
   ]
  },
  {
   "cell_type": "markdown",
   "id": "49d77e51-1dea-424e-af8e-521f714ee71d",
   "metadata": {},
   "source": [
    "# softmax from scratch"
   ]
  },
  {
   "cell_type": "code",
   "execution_count": 2,
   "id": "2c247373-ab24-4050-9e89-ad8f2a56b351",
   "metadata": {},
   "outputs": [],
   "source": [
    "def softmax(array_of_scores):\n",
    "    return np.exp(array_of_scores) / np.sum(np.exp(array_of_scores), axis = 0)"
   ]
  },
  {
   "cell_type": "code",
   "execution_count": 3,
   "id": "28adaf0a-5353-494f-a5e0-3b33c22399dc",
   "metadata": {},
   "outputs": [],
   "source": [
    "x = np.array([2.0, 1.0, 0.1])"
   ]
  },
  {
   "cell_type": "code",
   "execution_count": 4,
   "id": "6c784762-8576-44f3-820f-0291f016b328",
   "metadata": {},
   "outputs": [
    {
     "data": {
      "text/plain": [
       "array([0.65900114, 0.24243297, 0.09856589])"
      ]
     },
     "execution_count": 4,
     "metadata": {},
     "output_type": "execute_result"
    }
   ],
   "source": [
    "softmax(x)"
   ]
  },
  {
   "cell_type": "markdown",
   "id": "4633700f-93eb-4005-887a-99d052212054",
   "metadata": {},
   "source": [
    "# torch's tensor"
   ]
  },
  {
   "cell_type": "code",
   "execution_count": 5,
   "id": "66805acc-5644-4994-8370-ba5874db3a05",
   "metadata": {},
   "outputs": [],
   "source": [
    "x = torch.tensor([2.0, 1.0, 0.1])"
   ]
  },
  {
   "cell_type": "code",
   "execution_count": 6,
   "id": "42240a6a-390a-4cf8-b948-8dad44710b2c",
   "metadata": {},
   "outputs": [
    {
     "data": {
      "text/plain": [
       "tensor([0.6590, 0.2424, 0.0986])"
      ]
     },
     "execution_count": 6,
     "metadata": {},
     "output_type": "execute_result"
    }
   ],
   "source": [
    "torch.softmax(x, dim = 0)"
   ]
  },
  {
   "cell_type": "markdown",
   "id": "77d7492a-d328-461b-a77e-a9fde734a3c0",
   "metadata": {},
   "source": [
    "# cross entropy from scratch"
   ]
  },
  {
   "cell_type": "code",
   "execution_count": 10,
   "id": "dd969972-28eb-41cb-92f7-550c3b2776b5",
   "metadata": {},
   "outputs": [],
   "source": [
    "def cross_entropy(predictions, y):\n",
    "    return (-1 / y.shape[0]) * (np.sum(y * np.log(predictions)))"
   ]
  },
  {
   "cell_type": "code",
   "execution_count": 11,
   "id": "ab15eee2-334d-468d-bcb7-7e70c9d6d128",
   "metadata": {},
   "outputs": [],
   "source": [
    "y = np.array([1., 0., 0.])\n",
    "predictions = np.array([0.7, 0.2, 0.1])"
   ]
  },
  {
   "cell_type": "code",
   "execution_count": 12,
   "id": "7c9bfa92-f8ce-46d5-aa27-a145ce1cefcb",
   "metadata": {},
   "outputs": [
    {
     "data": {
      "text/plain": [
       "0.11889164797957748"
      ]
     },
     "execution_count": 12,
     "metadata": {},
     "output_type": "execute_result"
    }
   ],
   "source": [
    "cross_entropy(predictions, y)"
   ]
  },
  {
   "cell_type": "markdown",
   "id": "93969ed9-712c-4586-b0ab-6ba62285bf26",
   "metadata": {},
   "source": [
    "# torch's cross entropy"
   ]
  },
  {
   "cell_type": "code",
   "execution_count": 14,
   "id": "0fda6e44-ce05-414b-b86a-feac49f567e5",
   "metadata": {},
   "outputs": [],
   "source": [
    "loss = nn.CrossEntropyLoss() # should not apply softmax layer in the last"
   ]
  },
  {
   "cell_type": "code",
   "execution_count": 33,
   "id": "152f1537-5a11-4a36-aefd-90748bb1d6e9",
   "metadata": {},
   "outputs": [],
   "source": [
    "y = torch.tensor([2, 0, 1])"
   ]
  },
  {
   "cell_type": "code",
   "execution_count": 34,
   "id": "905faeef-b56d-40db-911c-02d4aa58620a",
   "metadata": {},
   "outputs": [],
   "source": [
    "y_pred_good = torch.tensor(\n",
    "    [[0.1, 0.2, 3.9], # predict class 2\n",
    "    [1.2, 0.1, 0.3], # predict class 0\n",
    "    [0.3, 2.2, 0.2]]) # predict class 1\n",
    "\n",
    "y_pred_bad = torch.tensor(\n",
    "    [[0.9, 0.2, 0.1],\n",
    "    [0.1, 0.3, 1.5],\n",
    "    [1.2, 0.2, 0.5]])"
   ]
  },
  {
   "cell_type": "code",
   "execution_count": 35,
   "id": "555cd4fc-5ac2-4c81-b44e-ec6d6fb41d6c",
   "metadata": {},
   "outputs": [
    {
     "name": "stdout",
     "output_type": "stream",
     "text": [
      "0.28342217206954956\n"
     ]
    },
    {
     "data": {
      "text/plain": [
       "1.6418448686599731"
      ]
     },
     "execution_count": 35,
     "metadata": {},
     "output_type": "execute_result"
    }
   ],
   "source": [
    "print(loss(y_pred_good, y).item())\n",
    "loss(y_pred_bad, y).item()"
   ]
  },
  {
   "cell_type": "code",
   "execution_count": 36,
   "id": "ecc82c72-0c1a-48b4-b975-84a5a8dcf8cf",
   "metadata": {},
   "outputs": [
    {
     "name": "stdout",
     "output_type": "stream",
     "text": [
      "tensor([2, 0, 1])\n"
     ]
    },
    {
     "data": {
      "text/plain": [
       "tensor([0, 2, 0])"
      ]
     },
     "execution_count": 36,
     "metadata": {},
     "output_type": "execute_result"
    }
   ],
   "source": [
    "print(torch.max(y_pred_good, 1)[1]) # returns the maximum value of the tensor and its index\n",
    "torch.max(y_pred_bad, 1)[1]"
   ]
  },
  {
   "cell_type": "code",
   "execution_count": 76,
   "id": "77f7d849-a3e3-4a0d-8439-74c8372663a8",
   "metadata": {},
   "outputs": [],
   "source": [
    "class NeuralNetMultiClass(nn.Module):\n",
    "    def __init__(self, input_size, hidden_size, num_classes):\n",
    "        super(NeuralNetMultiClass, self).__init__()\n",
    "        self.linear1 = nn.Linear(input_size, hidden_size)\n",
    "        self.relu = nn.ReLU()\n",
    "        self.linear2 = nn.Linear(hidden_size, num_classes)\n",
    "\n",
    "    def forward(self, x):\n",
    "        out = self.linear1(x)\n",
    "        out = self.relu(out)\n",
    "        return self.linear2(out)"
   ]
  },
  {
   "cell_type": "code",
   "execution_count": 77,
   "id": "6e7e58f8-b59a-434f-ba19-1e0df72fc218",
   "metadata": {},
   "outputs": [],
   "source": [
    "model1 = NeuralNetMultiClass(input_size = 28 * 28, hidden_size = 64, num_classes = 3)"
   ]
  },
  {
   "cell_type": "code",
   "execution_count": 78,
   "id": "097eea5e-3612-4ed3-824b-5c37dc3df190",
   "metadata": {},
   "outputs": [],
   "source": [
    "criterion_for_multiclass = nn.CrossEntropyLoss() # applies softmax"
   ]
  },
  {
   "cell_type": "code",
   "execution_count": 83,
   "id": "b9e60914-167a-4b15-bca7-a45532b601bc",
   "metadata": {},
   "outputs": [],
   "source": [
    "class NeuralNetBinaryClass(nn.Module):\n",
    "    def __init__(self, input_size, hidden_size):\n",
    "        super(NeuralNetBinaryClass, self).__init__()\n",
    "        self.linear1 = nn.Linear(input_size, hidden_size)\n",
    "        self.relu = nn.ReLU()\n",
    "        self.linear2 = nn.Linear(hidden_size, 1)\n",
    "\n",
    "    def forward(self, x):\n",
    "        out = self.linear1(x)\n",
    "        out = self.relu(out)\n",
    "        out = self.linear2(out)\n",
    "        prediction = torch.sigmoid(out)\n",
    "        return prediction"
   ]
  },
  {
   "cell_type": "code",
   "execution_count": 84,
   "id": "682e5970-9c4e-4dca-b361-7569bc03a120",
   "metadata": {},
   "outputs": [],
   "source": [
    "model2 = NeuralNetBinaryClass(input_size = 28 * 28, hidden_size = 64)"
   ]
  },
  {
   "cell_type": "code",
   "execution_count": 85,
   "id": "c1d5f12b-3dc7-4665-a2c7-1a6b48001711",
   "metadata": {},
   "outputs": [],
   "source": [
    "criterion_for_binaryclass = nn.BCELoss()"
   ]
  }
 ],
 "metadata": {
  "kernelspec": {
   "display_name": "Python 3 (ipykernel)",
   "language": "python",
   "name": "python3"
  },
  "language_info": {
   "codemirror_mode": {
    "name": "ipython",
    "version": 3
   },
   "file_extension": ".py",
   "mimetype": "text/x-python",
   "name": "python",
   "nbconvert_exporter": "python",
   "pygments_lexer": "ipython3",
   "version": "3.12.6"
  }
 },
 "nbformat": 4,
 "nbformat_minor": 5
}
