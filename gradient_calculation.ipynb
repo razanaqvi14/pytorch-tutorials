{
 "cells": [
  {
   "cell_type": "code",
   "execution_count": 1,
   "id": "0647fda0-a11f-47c9-8dfd-b88904771957",
   "metadata": {},
   "outputs": [],
   "source": [
    "import torch"
   ]
  },
  {
   "cell_type": "markdown",
   "id": "8113d28e-c851-403d-86ad-9753fafac5fa",
   "metadata": {},
   "source": [
    "# torch.rand() produces values lying between 0 and 1 from uniform distribution"
   ]
  },
  {
   "cell_type": "code",
   "execution_count": 2,
   "id": "60cb5960-c23c-4b1b-b73f-97d1dafb2602",
   "metadata": {},
   "outputs": [
    {
     "data": {
      "text/plain": [
       "tensor([0.3096])"
      ]
     },
     "execution_count": 2,
     "metadata": {},
     "output_type": "execute_result"
    }
   ],
   "source": [
    "torch.rand(1)"
   ]
  },
  {
   "cell_type": "markdown",
   "id": "1498853b-7d7f-4e7b-ab73-6969e4f678d6",
   "metadata": {},
   "source": [
    "# torch.randn() produces values with a mean of 0 and a standard deviation of 1. The values can be both positive or negative and it generate values from uniform distribution"
   ]
  },
  {
   "cell_type": "code",
   "execution_count": 3,
   "id": "17be1e56-516a-44e1-8d55-a5304a3c10bc",
   "metadata": {},
   "outputs": [],
   "source": [
    "x = torch.randn(3, requires_grad = True)"
   ]
  },
  {
   "cell_type": "code",
   "execution_count": 4,
   "id": "47c103a1-2bdd-4a52-bf87-4f662296277f",
   "metadata": {},
   "outputs": [
    {
     "data": {
      "text/plain": [
       "tensor([-0.5923, -1.1908, -0.8394], requires_grad=True)"
      ]
     },
     "execution_count": 4,
     "metadata": {},
     "output_type": "execute_result"
    }
   ],
   "source": [
    "x"
   ]
  },
  {
   "cell_type": "code",
   "execution_count": 5,
   "id": "ff35d9a7-50f9-43b7-b9f9-f33dcaac5052",
   "metadata": {},
   "outputs": [],
   "source": [
    "y = x + 2"
   ]
  },
  {
   "cell_type": "code",
   "execution_count": 6,
   "id": "c45b0b59-8c87-4e21-8b83-4910b79d5872",
   "metadata": {},
   "outputs": [
    {
     "data": {
      "text/plain": [
       "tensor([1.4077, 0.8092, 1.1606], grad_fn=<AddBackward0>)"
      ]
     },
     "execution_count": 6,
     "metadata": {},
     "output_type": "execute_result"
    }
   ],
   "source": [
    "y"
   ]
  },
  {
   "cell_type": "code",
   "execution_count": 7,
   "id": "3d1b1eda-3139-451d-ac68-216954031a2c",
   "metadata": {},
   "outputs": [],
   "source": [
    "z = y * y * 2"
   ]
  },
  {
   "cell_type": "code",
   "execution_count": 8,
   "id": "f35eb144-b9ad-478c-9fde-9e7343dba4c8",
   "metadata": {},
   "outputs": [],
   "source": [
    "v = torch.randn(3)"
   ]
  },
  {
   "cell_type": "code",
   "execution_count": 9,
   "id": "5293978c-6bf2-4c2a-9de5-c7a79b870fa1",
   "metadata": {},
   "outputs": [
    {
     "data": {
      "text/plain": [
       "tensor([ 0.2416,  0.4982, -0.1073])"
      ]
     },
     "execution_count": 9,
     "metadata": {},
     "output_type": "execute_result"
    }
   ],
   "source": [
    "v"
   ]
  },
  {
   "cell_type": "code",
   "execution_count": 10,
   "id": "c7367584-a2ac-495a-b2f3-86712d8596ea",
   "metadata": {},
   "outputs": [],
   "source": [
    "# z = z.mean()"
   ]
  },
  {
   "cell_type": "code",
   "execution_count": 11,
   "id": "1536bb0f-97ac-492e-920b-10900b51a59c",
   "metadata": {},
   "outputs": [
    {
     "data": {
      "text/plain": [
       "tensor([3.9630, 1.3095, 2.6941], grad_fn=<MulBackward0>)"
      ]
     },
     "execution_count": 11,
     "metadata": {},
     "output_type": "execute_result"
    }
   ],
   "source": [
    "z"
   ]
  },
  {
   "cell_type": "markdown",
   "id": "e01822d5-dd78-4758-bc00-b2fb495810be",
   "metadata": {},
   "source": [
    "# While calling the backward function, remember that if the tensor is a scalar (i.e., it contains only one value), you don't need to pass any arguments. However, if the tensor is a vector, you must create a vector of the same size and pass it to the backward function to compute the gradients"
   ]
  },
  {
   "cell_type": "code",
   "execution_count": 12,
   "id": "2aaf63f1-d646-446a-a9ba-1852386848fc",
   "metadata": {},
   "outputs": [],
   "source": [
    "z.backward(v) # dz/dx"
   ]
  },
  {
   "cell_type": "code",
   "execution_count": 13,
   "id": "f5d78920-8e37-48d9-bfbc-ab50a3424661",
   "metadata": {},
   "outputs": [
    {
     "data": {
      "text/plain": [
       "tensor([ 1.3603,  1.6125, -0.4983])"
      ]
     },
     "execution_count": 13,
     "metadata": {},
     "output_type": "execute_result"
    }
   ],
   "source": [
    "x.grad"
   ]
  },
  {
   "cell_type": "markdown",
   "id": "534e7cf1-91a9-4168-9801-bbd66efdb8f9",
   "metadata": {},
   "source": [
    "# there are 3 ways to stop torch from making gradient functions and tracking the history in our computational graph"
   ]
  },
  {
   "cell_type": "markdown",
   "id": "cb526505-a594-48bf-bd5b-d4635310fdf5",
   "metadata": {},
   "source": [
    "## 1 - variable.requires_grad_(False)"
   ]
  },
  {
   "cell_type": "code",
   "execution_count": 14,
   "id": "06d994ed-c7dd-4692-8cc0-c1424d80ecaa",
   "metadata": {},
   "outputs": [
    {
     "data": {
      "text/plain": [
       "tensor([-0.5923, -1.1908, -0.8394])"
      ]
     },
     "execution_count": 14,
     "metadata": {},
     "output_type": "execute_result"
    }
   ],
   "source": [
    "x.requires_grad_(False)"
   ]
  },
  {
   "cell_type": "markdown",
   "id": "950e533d-2038-42f5-9d2c-07a4db49c414",
   "metadata": {},
   "source": [
    "## 2 - variable_name.detach()"
   ]
  },
  {
   "cell_type": "code",
   "execution_count": 15,
   "id": "18edd87d-c1e7-452f-bb0d-cf984c33fdbe",
   "metadata": {},
   "outputs": [],
   "source": [
    "y = x.detach()"
   ]
  },
  {
   "cell_type": "code",
   "execution_count": 16,
   "id": "934334aa-0f73-4b3e-86f9-0537cb615bbf",
   "metadata": {},
   "outputs": [
    {
     "data": {
      "text/plain": [
       "tensor([-0.5923, -1.1908, -0.8394])"
      ]
     },
     "execution_count": 16,
     "metadata": {},
     "output_type": "execute_result"
    }
   ],
   "source": [
    "y"
   ]
  },
  {
   "cell_type": "markdown",
   "id": "53b3515e-2c3f-48ca-a58c-8232f2848d14",
   "metadata": {},
   "source": [
    "## 3 - with torch.no_grad():"
   ]
  },
  {
   "cell_type": "code",
   "execution_count": 17,
   "id": "228c3032-37b1-4bc3-a34d-f2123b354df3",
   "metadata": {},
   "outputs": [
    {
     "name": "stdout",
     "output_type": "stream",
     "text": [
      "tensor([1.4077, 0.8092, 1.1606])\n"
     ]
    }
   ],
   "source": [
    "with torch.no_grad():\n",
    "    y = x + 2\n",
    "    print(y)"
   ]
  },
  {
   "cell_type": "code",
   "execution_count": 18,
   "id": "c2a157a9-5008-45dd-91d3-b34d8bb68f4b",
   "metadata": {},
   "outputs": [
    {
     "data": {
      "text/plain": [
       "tensor([1.4077, 0.8092, 1.1606])"
      ]
     },
     "execution_count": 18,
     "metadata": {},
     "output_type": "execute_result"
    }
   ],
   "source": [
    "y"
   ]
  },
  {
   "cell_type": "code",
   "execution_count": 41,
   "id": "cef704e8-db90-4e2b-8c04-6b6bd6f86236",
   "metadata": {},
   "outputs": [],
   "source": [
    "weights = torch.ones(4, requires_grad = True)"
   ]
  },
  {
   "cell_type": "code",
   "execution_count": 44,
   "id": "e87b4469-bf74-4878-ba2d-4242202fa16b",
   "metadata": {},
   "outputs": [
    {
     "data": {
      "text/plain": [
       "[tensor([1., 1., 1., 1.], requires_grad=True)]"
      ]
     },
     "execution_count": 44,
     "metadata": {},
     "output_type": "execute_result"
    }
   ],
   "source": [
    "[weights]"
   ]
  },
  {
   "cell_type": "code",
   "execution_count": 46,
   "id": "dc0143fe-833d-4718-b01c-cbe26fa02f13",
   "metadata": {},
   "outputs": [],
   "source": [
    "optimizer = torch.optim.SGD([weights], lr = 0.01)"
   ]
  },
  {
   "cell_type": "code",
   "execution_count": 48,
   "id": "4352a9a8-f2c0-4b34-9844-3f9bbd61bb27",
   "metadata": {},
   "outputs": [],
   "source": [
    "optimizer.step()\n",
    "optimizer.zero_grad()"
   ]
  },
  {
   "cell_type": "code",
   "execution_count": null,
   "id": "f8667548-cdc2-4068-afea-a2af7cd49f1e",
   "metadata": {
    "jp-MarkdownHeadingCollapsed": true
   },
   "outputs": [],
   "source": [
    "for epoch in range(3):\n",
    "    print(f\"epoch # {epoch}\")\n",
    "    model_output = (weights * 3).sum()\n",
    "    print(model_output)\n",
    "    model_output.backward()\n",
    "    print(weights.grad)\n",
    "    weights.grad.zero_()\n",
    "    print()"
   ]
  },
  {
   "cell_type": "code",
   "execution_count": null,
   "id": "0aa398ab-8654-487c-92fe-fa7237b50bea",
   "metadata": {},
   "outputs": [],
   "source": []
  },
  {
   "cell_type": "code",
   "execution_count": null,
   "id": "4f91e3d0-5144-4cde-9833-5fa0e2ff7cd9",
   "metadata": {},
   "outputs": [],
   "source": []
  }
 ],
 "metadata": {
  "kernelspec": {
   "display_name": "Python 3 (ipykernel)",
   "language": "python",
   "name": "python3"
  },
  "language_info": {
   "codemirror_mode": {
    "name": "ipython",
    "version": 3
   },
   "file_extension": ".py",
   "mimetype": "text/x-python",
   "name": "python",
   "nbconvert_exporter": "python",
   "pygments_lexer": "ipython3",
   "version": "3.12.2"
  }
 },
 "nbformat": 4,
 "nbformat_minor": 5
}
