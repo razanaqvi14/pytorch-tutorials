{
 "cells": [
  {
   "cell_type": "code",
   "execution_count": 1,
   "id": "a75f5761-85e1-44bf-9451-a28f696f081f",
   "metadata": {},
   "outputs": [],
   "source": [
    "import torch\n",
    "import torch.nn as nn\n",
    "import numpy as np\n",
    "from sklearn import datasets\n",
    "from sklearn.preprocessing import StandardScaler\n",
    "from sklearn.model_selection import train_test_split\n",
    "from sklearn.metrics import classification_report, confusion_matrix\n",
    "import seaborn as sns\n",
    "import matplotlib.pyplot as plt"
   ]
  },
  {
   "cell_type": "code",
   "execution_count": 2,
   "id": "f7ee8f17-9287-4641-b5b2-9762cec49f1b",
   "metadata": {},
   "outputs": [],
   "source": [
    "plt.style.use(\"ggplot\")"
   ]
  },
  {
   "cell_type": "code",
   "execution_count": 3,
   "id": "57f3e713-3cf9-47ae-9cd6-9fcda237e047",
   "metadata": {},
   "outputs": [],
   "source": [
    "X, y = datasets.load_breast_cancer()[\"data\"], datasets.load_breast_cancer()[\"target\"]"
   ]
  },
  {
   "cell_type": "code",
   "execution_count": 4,
   "id": "9a1167c9-b04f-4f89-9d76-0d72eb547719",
   "metadata": {
    "scrolled": true
   },
   "outputs": [
    {
     "data": {
      "text/plain": [
       "array([[1.799e+01, 1.038e+01, 1.228e+02, ..., 2.654e-01, 4.601e-01,\n",
       "        1.189e-01],\n",
       "       [2.057e+01, 1.777e+01, 1.329e+02, ..., 1.860e-01, 2.750e-01,\n",
       "        8.902e-02],\n",
       "       [1.969e+01, 2.125e+01, 1.300e+02, ..., 2.430e-01, 3.613e-01,\n",
       "        8.758e-02],\n",
       "       ...,\n",
       "       [1.660e+01, 2.808e+01, 1.083e+02, ..., 1.418e-01, 2.218e-01,\n",
       "        7.820e-02],\n",
       "       [2.060e+01, 2.933e+01, 1.401e+02, ..., 2.650e-01, 4.087e-01,\n",
       "        1.240e-01],\n",
       "       [7.760e+00, 2.454e+01, 4.792e+01, ..., 0.000e+00, 2.871e-01,\n",
       "        7.039e-02]])"
      ]
     },
     "execution_count": 4,
     "metadata": {},
     "output_type": "execute_result"
    }
   ],
   "source": [
    "X"
   ]
  },
  {
   "cell_type": "code",
   "execution_count": 5,
   "id": "0fe5e3d4-2055-4476-b0f0-65cdf5b95bf2",
   "metadata": {
    "scrolled": true
   },
   "outputs": [
    {
     "data": {
      "text/plain": [
       "array([0, 0, 0, 0, 0, 0, 0, 0, 0, 0, 0, 0, 0, 0, 0, 0, 0, 0, 0, 1, 1, 1,\n",
       "       0, 0, 0, 0, 0, 0, 0, 0, 0, 0, 0, 0, 0, 0, 0, 1, 0, 0, 0, 0, 0, 0,\n",
       "       0, 0, 1, 0, 1, 1, 1, 1, 1, 0, 0, 1, 0, 0, 1, 1, 1, 1, 0, 1, 0, 0,\n",
       "       1, 1, 1, 1, 0, 1, 0, 0, 1, 0, 1, 0, 0, 1, 1, 1, 0, 0, 1, 0, 0, 0,\n",
       "       1, 1, 1, 0, 1, 1, 0, 0, 1, 1, 1, 0, 0, 1, 1, 1, 1, 0, 1, 1, 0, 1,\n",
       "       1, 1, 1, 1, 1, 1, 1, 0, 0, 0, 1, 0, 0, 1, 1, 1, 0, 0, 1, 0, 1, 0,\n",
       "       0, 1, 0, 0, 1, 1, 0, 1, 1, 0, 1, 1, 1, 1, 0, 1, 1, 1, 1, 1, 1, 1,\n",
       "       1, 1, 0, 1, 1, 1, 1, 0, 0, 1, 0, 1, 1, 0, 0, 1, 1, 0, 0, 1, 1, 1,\n",
       "       1, 0, 1, 1, 0, 0, 0, 1, 0, 1, 0, 1, 1, 1, 0, 1, 1, 0, 0, 1, 0, 0,\n",
       "       0, 0, 1, 0, 0, 0, 1, 0, 1, 0, 1, 1, 0, 1, 0, 0, 0, 0, 1, 1, 0, 0,\n",
       "       1, 1, 1, 0, 1, 1, 1, 1, 1, 0, 0, 1, 1, 0, 1, 1, 0, 0, 1, 0, 1, 1,\n",
       "       1, 1, 0, 1, 1, 1, 1, 1, 0, 1, 0, 0, 0, 0, 0, 0, 0, 0, 0, 0, 0, 0,\n",
       "       0, 0, 1, 1, 1, 1, 1, 1, 0, 1, 0, 1, 1, 0, 1, 1, 0, 1, 0, 0, 1, 1,\n",
       "       1, 1, 1, 1, 1, 1, 1, 1, 1, 1, 1, 0, 1, 1, 0, 1, 0, 1, 1, 1, 1, 1,\n",
       "       1, 1, 1, 1, 1, 1, 1, 1, 1, 0, 1, 1, 1, 0, 1, 0, 1, 1, 1, 1, 0, 0,\n",
       "       0, 1, 1, 1, 1, 0, 1, 0, 1, 0, 1, 1, 1, 0, 1, 1, 1, 1, 1, 1, 1, 0,\n",
       "       0, 0, 1, 1, 1, 1, 1, 1, 1, 1, 1, 1, 1, 0, 0, 1, 0, 0, 0, 1, 0, 0,\n",
       "       1, 1, 1, 1, 1, 0, 1, 1, 1, 1, 1, 0, 1, 1, 1, 0, 1, 1, 0, 0, 1, 1,\n",
       "       1, 1, 1, 1, 0, 1, 1, 1, 1, 1, 1, 1, 0, 1, 1, 1, 1, 1, 0, 1, 1, 0,\n",
       "       1, 1, 1, 1, 1, 1, 1, 1, 1, 1, 1, 1, 0, 1, 0, 0, 1, 0, 1, 1, 1, 1,\n",
       "       1, 0, 1, 1, 0, 1, 0, 1, 1, 0, 1, 0, 1, 1, 1, 1, 1, 1, 1, 1, 0, 0,\n",
       "       1, 1, 1, 1, 1, 1, 0, 1, 1, 1, 1, 1, 1, 1, 1, 1, 1, 0, 1, 1, 1, 1,\n",
       "       1, 1, 1, 0, 1, 0, 1, 1, 0, 1, 1, 1, 1, 1, 0, 0, 1, 0, 1, 0, 1, 1,\n",
       "       1, 1, 1, 0, 1, 1, 0, 1, 0, 1, 0, 0, 1, 1, 1, 0, 1, 1, 1, 1, 1, 1,\n",
       "       1, 1, 1, 1, 1, 0, 1, 0, 0, 1, 1, 1, 1, 1, 1, 1, 1, 1, 1, 1, 1, 1,\n",
       "       1, 1, 1, 1, 1, 1, 1, 1, 1, 1, 1, 1, 0, 0, 0, 0, 0, 0, 1])"
      ]
     },
     "execution_count": 5,
     "metadata": {},
     "output_type": "execute_result"
    }
   ],
   "source": [
    "y"
   ]
  },
  {
   "cell_type": "code",
   "execution_count": 6,
   "id": "2abceb03-2c25-46d6-bb81-2698b0ad1f33",
   "metadata": {},
   "outputs": [],
   "source": [
    "input_n_samples, input_n_features = X.shape[0], X.shape[1]\n",
    "output_n_samples= y.shape[0]"
   ]
  },
  {
   "cell_type": "code",
   "execution_count": 7,
   "id": "e74c3a63-c6f5-49ef-90f4-c6881f65c34d",
   "metadata": {},
   "outputs": [
    {
     "data": {
      "text/plain": [
       "'There are total 569 samples in our input data with each having 30 features and for each input we also have an output which are total 569'"
      ]
     },
     "execution_count": 7,
     "metadata": {},
     "output_type": "execute_result"
    }
   ],
   "source": [
    "f\"There are total {input_n_samples} samples in our input data with each having {input_n_features} features and for each input we also have an output which are total {output_n_samples}\""
   ]
  },
  {
   "cell_type": "code",
   "execution_count": 8,
   "id": "9e78cb45-4849-418a-bf3e-edb5f3f50fad",
   "metadata": {},
   "outputs": [],
   "source": [
    "X_train, X_test, y_train, y_test = train_test_split(X, y, test_size = 0.2, random_state = 0)"
   ]
  },
  {
   "cell_type": "code",
   "execution_count": 9,
   "id": "b5fecfc2-9c2a-4710-a987-a73f731adc04",
   "metadata": {},
   "outputs": [
    {
     "data": {
      "text/plain": [
       "((455, 30), (455,), (114, 30), (114,))"
      ]
     },
     "execution_count": 9,
     "metadata": {},
     "output_type": "execute_result"
    }
   ],
   "source": [
    "X_train.shape, y_train.shape, X_test.shape, y_test.shape"
   ]
  },
  {
   "cell_type": "code",
   "execution_count": 10,
   "id": "8d037ebc-3fea-4ac3-9415-c90b74a09642",
   "metadata": {},
   "outputs": [],
   "source": [
    "scaler = StandardScaler()"
   ]
  },
  {
   "cell_type": "code",
   "execution_count": 11,
   "id": "4924ef2b-bda3-4393-8796-c0570c91dd7f",
   "metadata": {},
   "outputs": [],
   "source": [
    "X_train = scaler.fit_transform(X_train)\n",
    "X_test = scaler.transform(X_test)"
   ]
  },
  {
   "cell_type": "code",
   "execution_count": 12,
   "id": "b4503283-fb0c-43cd-bf38-243a21684140",
   "metadata": {},
   "outputs": [],
   "source": [
    "X_train = torch.from_numpy(X_train.astype(np.float32))\n",
    "y_train = torch.from_numpy(y_train.astype(np.float32).reshape(-1, 1))\n",
    "X_test = torch.from_numpy(X_test.astype(np.float32))\n",
    "y_test = torch.from_numpy(y_test.astype(np.float32).reshape(-1, 1))"
   ]
  },
  {
   "cell_type": "code",
   "execution_count": 13,
   "id": "0c370192-69b3-4ce6-aa02-9692d82bbb23",
   "metadata": {},
   "outputs": [],
   "source": [
    "class LogisticRegression(nn.Module):\n",
    "    def __init__(self, number_input_featrues):\n",
    "        super(LogisticRegression, self).__init__()\n",
    "        self.linear = nn.Linear(number_input_featrues, 1)\n",
    "\n",
    "    def forward(self, x):\n",
    "        return torch.sigmoid(self.linear(x))"
   ]
  },
  {
   "cell_type": "code",
   "execution_count": 14,
   "id": "8b84c660-48e9-41b9-bce5-f032629dc474",
   "metadata": {},
   "outputs": [],
   "source": [
    "model = LogisticRegression(input_n_features)"
   ]
  },
  {
   "cell_type": "code",
   "execution_count": 15,
   "id": "296bc6c6-a2d0-42f8-9519-59d5f1aa6b18",
   "metadata": {},
   "outputs": [],
   "source": [
    "learning_rate = 0.01\n",
    "criterion = nn.BCELoss()\n",
    "optimizer = torch.optim.SGD(model.parameters(), lr = learning_rate)"
   ]
  },
  {
   "cell_type": "code",
   "execution_count": 16,
   "id": "6429e9f1-a956-4770-acc8-5db5aae91885",
   "metadata": {},
   "outputs": [],
   "source": [
    "epochs = 100"
   ]
  },
  {
   "cell_type": "code",
   "execution_count": 17,
   "id": "7d1eda67-4f4d-45e8-a629-076ce5d982ff",
   "metadata": {
    "scrolled": true
   },
   "outputs": [
    {
     "name": "stdout",
     "output_type": "stream",
     "text": [
      "Epoch # 1\n",
      "Loss: 0.859\n",
      "Weights: tensor([ 0.1776,  0.0595,  0.0318, -0.0788,  0.1554,  0.1393, -0.1459,  0.0612,\n",
      "         0.0169,  0.0432,  0.1658,  0.0638,  0.0383, -0.1777,  0.0614, -0.1340,\n",
      "         0.0622, -0.0072,  0.0832, -0.0736, -0.0471, -0.0859, -0.1348,  0.0221,\n",
      "        -0.0585, -0.0170,  0.0845,  0.1282, -0.0298,  0.1789],\n",
      "       grad_fn=<SelectBackward0>)\n",
      "bias: -0.149\n",
      "\n",
      "Epoch # 10\n",
      "Loss: 0.662\n",
      "Weights: tensor([ 0.1481,  0.0425,  0.0015, -0.1072,  0.1345,  0.1094, -0.1777,  0.0262,\n",
      "        -0.0011,  0.0388,  0.1413,  0.0627,  0.0143, -0.2001,  0.0618, -0.1483,\n",
      "         0.0516, -0.0261,  0.0807, -0.0792, -0.0787, -0.1049, -0.1669, -0.0075,\n",
      "        -0.0807, -0.0452,  0.0544,  0.0926, -0.0503,  0.1612],\n",
      "       grad_fn=<SelectBackward0>)\n",
      "bias: -0.133\n",
      "\n",
      "Epoch # 20\n",
      "Loss: 0.535\n",
      "Weights: tensor([ 0.1231,  0.0274, -0.0241, -0.1311,  0.1164,  0.0848, -0.2039, -0.0033,\n",
      "        -0.0163,  0.0359,  0.1208,  0.0618, -0.0055, -0.2185,  0.0624, -0.1586,\n",
      "         0.0444, -0.0410,  0.0788, -0.0821, -0.1058, -0.1219, -0.1942, -0.0325,\n",
      "        -0.1004, -0.0690,  0.0291,  0.0621, -0.0684,  0.1463],\n",
      "       grad_fn=<SelectBackward0>)\n",
      "bias: -0.117\n",
      "\n",
      "Epoch # 30\n",
      "Loss: 0.457\n",
      "Weights: tensor([ 0.1032,  0.0151, -0.0444, -0.1501,  0.1022,  0.0663, -0.2239, -0.0265,\n",
      "        -0.0279,  0.0347,  0.1046,  0.0611, -0.0211, -0.2330,  0.0633, -0.1651,\n",
      "         0.0405, -0.0515,  0.0777, -0.0827, -0.1274, -0.1360, -0.2160, -0.0525,\n",
      "        -0.1164, -0.0873,  0.0097,  0.0380, -0.0830,  0.1350],\n",
      "       grad_fn=<SelectBackward0>)\n",
      "bias: -0.101\n",
      "\n",
      "Epoch # 40\n",
      "Loss: 0.405\n",
      "Weights: tensor([ 0.0866,  0.0045, -0.0613, -0.1660,  0.0905,  0.0516, -0.2399, -0.0456,\n",
      "        -0.0372,  0.0346,  0.0911,  0.0606, -0.0340, -0.2451,  0.0642, -0.1691,\n",
      "         0.0386, -0.0593,  0.0771, -0.0817, -0.1456, -0.1481, -0.2342, -0.0692,\n",
      "        -0.1297, -0.1019, -0.0059,  0.0183, -0.0951,  0.1262],\n",
      "       grad_fn=<SelectBackward0>)\n",
      "bias: -0.087\n",
      "\n",
      "Epoch # 50\n",
      "Loss: 0.367\n",
      "Weights: tensor([ 0.0723, -0.0047, -0.0758, -0.1796,  0.0806,  0.0398, -0.2532, -0.0618,\n",
      "        -0.0448,  0.0353,  0.0794,  0.0602, -0.0450, -0.2556,  0.0651, -0.1714,\n",
      "         0.0382, -0.0651,  0.0767, -0.0798, -0.1613, -0.1587, -0.2498, -0.0837,\n",
      "        -0.1412, -0.1140, -0.0187,  0.0016, -0.1055,  0.1192],\n",
      "       grad_fn=<SelectBackward0>)\n",
      "bias: -0.074\n",
      "\n",
      "Epoch # 60\n",
      "Loss: 0.338\n",
      "Weights: tensor([ 0.0596, -0.0131, -0.0885, -0.1917,  0.0721,  0.0299, -0.2644, -0.0758,\n",
      "        -0.0512,  0.0365,  0.0691,  0.0598, -0.0547, -0.2649,  0.0661, -0.1726,\n",
      "         0.0387, -0.0694,  0.0766, -0.0772, -0.1753, -0.1683, -0.2637, -0.0966,\n",
      "        -0.1513, -0.1242, -0.0295, -0.0130, -0.1145,  0.1135],\n",
      "       grad_fn=<SelectBackward0>)\n",
      "bias: -0.061\n",
      "\n",
      "Epoch # 70\n",
      "Loss: 0.315\n",
      "Weights: tensor([ 0.0483, -0.0206, -0.0999, -0.2026,  0.0647,  0.0214, -0.2741, -0.0883,\n",
      "        -0.0567,  0.0380,  0.0597,  0.0596, -0.0635, -0.2732,  0.0670, -0.1730,\n",
      "         0.0398, -0.0728,  0.0767, -0.0741, -0.1878, -0.1770, -0.2761, -0.1082,\n",
      "        -0.1603, -0.1330, -0.0388, -0.0258, -0.1226,  0.1087],\n",
      "       grad_fn=<SelectBackward0>)\n",
      "bias: -0.050\n",
      "\n",
      "Epoch # 80\n",
      "Loss: 0.296\n",
      "Weights: tensor([ 0.0381, -0.0276, -0.1103, -0.2124,  0.0580,  0.0142, -0.2826, -0.0995,\n",
      "        -0.0616,  0.0397,  0.0512,  0.0593, -0.0714, -0.2809,  0.0679, -0.1728,\n",
      "         0.0415, -0.0753,  0.0769, -0.0707, -0.1992, -0.1851, -0.2874, -0.1187,\n",
      "        -0.1684, -0.1408, -0.0470, -0.0372, -0.1298,  0.1046],\n",
      "       grad_fn=<SelectBackward0>)\n",
      "bias: -0.039\n",
      "\n",
      "Epoch # 90\n",
      "Loss: 0.281\n",
      "Weights: tensor([ 0.0287, -0.0341, -0.1197, -0.2214,  0.0520,  0.0078, -0.2902, -0.1096,\n",
      "        -0.0658,  0.0416,  0.0433,  0.0591, -0.0787, -0.2880,  0.0687, -0.1721,\n",
      "         0.0435, -0.0773,  0.0772, -0.0671, -0.2098, -0.1927, -0.2977, -0.1284,\n",
      "        -0.1759, -0.1476, -0.0543, -0.0476, -0.1364,  0.1010],\n",
      "       grad_fn=<SelectBackward0>)\n",
      "bias: -0.029\n",
      "\n",
      "Epoch # 100\n",
      "Loss: 0.268\n",
      "Weights: tensor([ 0.0200, -0.0402, -0.1284, -0.2298,  0.0465,  0.0022, -0.2970, -0.1189,\n",
      "        -0.0697,  0.0436,  0.0360,  0.0589, -0.0854, -0.2945,  0.0695, -0.1711,\n",
      "         0.0458, -0.0788,  0.0776, -0.0634, -0.2195, -0.1998, -0.3073, -0.1375,\n",
      "        -0.1828, -0.1538, -0.0608, -0.0571, -0.1425,  0.0979],\n",
      "       grad_fn=<SelectBackward0>)\n",
      "bias: -0.019\n",
      "\n"
     ]
    }
   ],
   "source": [
    "for epoch in range(1, epochs + 1):\n",
    "    predictions = model(X_train)\n",
    "    loss = criterion(predictions, y_train)\n",
    "    loss.backward()\n",
    "    optimizer.step()\n",
    "    optimizer.zero_grad()\n",
    "    if (epoch == 1) or (epoch % 10 == 0):\n",
    "        print(f\"Epoch # {epoch}\")\n",
    "        print(f\"Loss: {loss:.3f}\")\n",
    "        weights, bias = model.parameters()\n",
    "        print(f\"Weights: {weights[0]}\")\n",
    "        print(f\"bias: {bias[0]:.3f}\")\n",
    "        print()"
   ]
  },
  {
   "cell_type": "code",
   "execution_count": 18,
   "id": "34d3ef6d-b029-42e1-94f1-6d03431efea5",
   "metadata": {},
   "outputs": [],
   "source": [
    "with torch.no_grad():\n",
    "    predictions = model(X_test).round()"
   ]
  },
  {
   "cell_type": "code",
   "execution_count": 19,
   "id": "e014641c-b174-47a5-a24d-1b29aac9385c",
   "metadata": {},
   "outputs": [],
   "source": [
    "accuracy = (predictions.eq(y_test).sum() / y_test.shape[0]) * 100"
   ]
  },
  {
   "cell_type": "code",
   "execution_count": 20,
   "id": "fc943ea8-6443-4a63-a3e8-a8f4621ce562",
   "metadata": {},
   "outputs": [
    {
     "name": "stdout",
     "output_type": "stream",
     "text": [
      "The accuracy of our model on test dataset is 92.105%\n"
     ]
    }
   ],
   "source": [
    "print(f\"The accuracy of our model on test dataset is {accuracy:.3f}%\")"
   ]
  },
  {
   "cell_type": "code",
   "execution_count": 21,
   "id": "f598b591-82d1-4ac4-9ae7-9b94a3709163",
   "metadata": {},
   "outputs": [
    {
     "name": "stdout",
     "output_type": "stream",
     "text": [
      "              precision    recall  f1-score   support\n",
      "\n",
      "         0.0       0.87      0.96      0.91        47\n",
      "         1.0       0.97      0.90      0.93        67\n",
      "\n",
      "    accuracy                           0.92       114\n",
      "   macro avg       0.92      0.93      0.92       114\n",
      "weighted avg       0.93      0.92      0.92       114\n",
      "\n"
     ]
    }
   ],
   "source": [
    "print(classification_report(y_test, predictions))"
   ]
  },
  {
   "cell_type": "code",
   "execution_count": 22,
   "id": "2a543000-c4c7-436b-a45f-371b1fb2e3a7",
   "metadata": {},
   "outputs": [
    {
     "data": {
      "image/png": "[encoded data removed]",
      "text/plain": [
       "<Figure size 640x480 with 2 Axes>"
      ]
     },
     "metadata": {},
     "output_type": "display_data"
    }
   ],
   "source": [
    "sns.heatmap(confusion_matrix(y_test, predictions), annot = True, fmt = \"d\")\n",
    "plt.title(\"Confusion Matrix\")\n",
    "plt.xlabel(\"Predicted Labels\")\n",
    "plt.ylabel(\"True Labels\")\n",
    "plt.tight_layout()\n",
    "plt.show()"
   ]
  },
  {
   "cell_type": "code",
   "execution_count": null,
   "id": "fc0276ad-0625-49b3-9045-d751f8dc790d",
   "metadata": {},
   "outputs": [],
   "source": []
  }
 ],
 "metadata": {
  "kernelspec": {
   "display_name": "Python 3 (ipykernel)",
   "language": "python",
   "name": "python3"
  },
  "language_info": {
   "codemirror_mode": {
    "name": "ipython",
    "version": 3
   },
   "file_extension": ".py",
   "mimetype": "text/x-python",
   "name": "python",
   "nbconvert_exporter": "python",
   "pygments_lexer": "ipython3",
   "version": "3.12.6"
  }
 },
 "nbformat": 4,
 "nbformat_minor": 5
}
