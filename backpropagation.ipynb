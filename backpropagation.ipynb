{
 "cells": [
  {
   "cell_type": "code",
   "execution_count": 1,
   "id": "7d718266-b58b-4115-9479-bfc8c74fa387",
   "metadata": {},
   "outputs": [],
   "source": [
    "import torch"
   ]
  },
  {
   "cell_type": "markdown",
   "id": "bf3e31f5-ab07-4ee1-a404-61c18f73f204",
   "metadata": {},
   "source": [
    "# the tensor values must be in float if you are passing requires_grad = True"
   ]
  },
  {
   "cell_type": "code",
   "execution_count": 8,
   "id": "47ef5a25-8314-4a2a-9246-dc571b771ed9",
   "metadata": {},
   "outputs": [],
   "source": [
    "x = torch.tensor(1)\n",
    "y = torch.tensor(2)\n",
    "w = torch.tensor(1.0, requires_grad = True)"
   ]
  },
  {
   "cell_type": "code",
   "execution_count": 9,
   "id": "da260452-1723-4ca4-bf60-db85d30ee10c",
   "metadata": {},
   "outputs": [
    {
     "data": {
      "text/plain": [
       "(tensor(1), tensor(2), tensor(1., requires_grad=True))"
      ]
     },
     "execution_count": 9,
     "metadata": {},
     "output_type": "execute_result"
    }
   ],
   "source": [
    "x, y, w"
   ]
  },
  {
   "cell_type": "markdown",
   "id": "8cf5a76e-77be-4b0b-94f1-cb9110c452f5",
   "metadata": {},
   "source": [
    "# forward pass and compute the loss"
   ]
  },
  {
   "cell_type": "code",
   "execution_count": 10,
   "id": "9bb680cd-615a-4344-b44b-287b214908d4",
   "metadata": {},
   "outputs": [],
   "source": [
    "y_predicted = x * w\n",
    "loss = (y_predicted - y) ** 2"
   ]
  },
  {
   "cell_type": "code",
   "execution_count": 11,
   "id": "99c4e45b-29f6-459f-8873-b33bff5274f9",
   "metadata": {},
   "outputs": [
    {
     "data": {
      "text/plain": [
       "tensor(1., grad_fn=<PowBackward0>)"
      ]
     },
     "execution_count": 11,
     "metadata": {},
     "output_type": "execute_result"
    }
   ],
   "source": [
    "loss"
   ]
  },
  {
   "cell_type": "markdown",
   "id": "d3ad3489-c1f3-47bd-8198-2f26df630028",
   "metadata": {},
   "source": [
    "# backward pass"
   ]
  },
  {
   "cell_type": "code",
   "execution_count": 12,
   "id": "97617726-a946-45b1-bc94-28c3e1746083",
   "metadata": {},
   "outputs": [],
   "source": [
    "loss.backward()"
   ]
  },
  {
   "cell_type": "code",
   "execution_count": 13,
   "id": "d3c5d6a8-9f92-4ee6-8c20-768ae44bf71a",
   "metadata": {},
   "outputs": [
    {
     "data": {
      "text/plain": [
       "tensor(-2.)"
      ]
     },
     "execution_count": 13,
     "metadata": {},
     "output_type": "execute_result"
    }
   ],
   "source": [
    "w.grad"
   ]
  },
  {
   "cell_type": "code",
   "execution_count": null,
   "id": "8b67c95d-c281-49d5-9457-c74bb11c47cd",
   "metadata": {},
   "outputs": [],
   "source": []
  }
 ],
 "metadata": {
  "kernelspec": {
   "display_name": "Python 3 (ipykernel)",
   "language": "python",
   "name": "python3"
  },
  "language_info": {
   "codemirror_mode": {
    "name": "ipython",
    "version": 3
   },
   "file_extension": ".py",
   "mimetype": "text/x-python",
   "name": "python",
   "nbconvert_exporter": "python",
   "pygments_lexer": "ipython3",
   "version": "3.12.2"
  }
 },
 "nbformat": 4,
 "nbformat_minor": 5
}
