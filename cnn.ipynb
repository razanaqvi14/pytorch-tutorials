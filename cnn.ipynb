{
 "cells": [
  {
   "cell_type": "code",
   "execution_count": 1,
   "id": "9f839daf-50dc-4f4a-b93c-3fcfad9cc471",
   "metadata": {},
   "outputs": [],
   "source": [
    "import torch\n",
    "import torch.nn as nn\n",
    "import torch.nn.functional as F\n",
    "import torchvision\n",
    "from torchvision.transforms import transforms\n",
    "import matplotlib.pyplot as plt\n",
    "import numpy as np"
   ]
  },
  {
   "cell_type": "code",
   "execution_count": 2,
   "id": "d6480a5b-9424-44c5-af28-1405505a3be5",
   "metadata": {},
   "outputs": [],
   "source": [
    "device = torch.device(\"cuda\" if torch.cuda.is_available() else \"cpu\")"
   ]
  },
  {
   "cell_type": "code",
   "execution_count": 3,
   "id": "de73f63d-6b41-4afb-bcd7-5f2bd7af2ab0",
   "metadata": {},
   "outputs": [
    {
     "name": "stdout",
     "output_type": "stream",
     "text": [
      "Files already downloaded and verified\n",
      "Files already downloaded and verified\n"
     ]
    }
   ],
   "source": [
    "transform = transforms.Compose(\n",
    "    [transforms.ToTensor(),\n",
    "     transforms.Normalize((0.5, 0.5, 0.5), (0.5, 0.5, 0.5))])\n",
    "\n",
    "batch_size = 4\n",
    "\n",
    "trainset = torchvision.datasets.CIFAR10(root = './data',\n",
    "                                        train = True,\n",
    "                                        download = True,\n",
    "                                        transform = transform)\n",
    "\n",
    "trainloader = torch.utils.data.DataLoader(trainset,\n",
    "                                          batch_size = batch_size,\n",
    "                                          shuffle = True)\n",
    "\n",
    "testset = torchvision.datasets.CIFAR10(root = './data',\n",
    "                                       train = False,\n",
    "                                       download = True,\n",
    "                                       transform = transform)\n",
    "\n",
    "testloader = torch.utils.data.DataLoader(testset,\n",
    "                                         batch_size = batch_size,\n",
    "                                         shuffle = False)\n",
    "\n",
    "classes = ('plane', 'car', 'bird', 'cat', 'deer', 'dog', 'frog', 'horse', 'ship', 'truck')"
   ]
  },
  {
   "cell_type": "code",
   "execution_count": 4,
   "id": "761c0e1e-37fe-4abd-9ffa-17d3ea9b188e",
   "metadata": {},
   "outputs": [
    {
     "data": {
      "text/plain": [
       "Dataset CIFAR10\n",
       "    Number of datapoints: 50000\n",
       "    Root location: ./data\n",
       "    Split: Train\n",
       "    StandardTransform\n",
       "Transform: Compose(\n",
       "               ToTensor()\n",
       "               Normalize(mean=(0.5, 0.5, 0.5), std=(0.5, 0.5, 0.5))\n",
       "           )"
      ]
     },
     "execution_count": 4,
     "metadata": {},
     "output_type": "execute_result"
    }
   ],
   "source": [
    "trainset"
   ]
  },
  {
   "cell_type": "code",
   "execution_count": 5,
   "id": "66586bdf-6081-4b36-97a8-baf0f3991731",
   "metadata": {},
   "outputs": [
    {
     "data": {
      "text/plain": [
       "<torch.utils.data.dataloader.DataLoader at 0x1dde99b6f60>"
      ]
     },
     "execution_count": 5,
     "metadata": {},
     "output_type": "execute_result"
    }
   ],
   "source": [
    "trainloader"
   ]
  },
  {
   "cell_type": "code",
   "execution_count": 4,
   "id": "f9b8534b-0f4c-47c1-b03f-761d58db0a28",
   "metadata": {},
   "outputs": [],
   "source": [
    "dataiter = iter(trainloader)"
   ]
  },
  {
   "cell_type": "code",
   "execution_count": 5,
   "id": "05221643-bf71-4bd9-862e-ec218c08e29a",
   "metadata": {},
   "outputs": [],
   "source": [
    "images, labels = next(dataiter)"
   ]
  },
  {
   "cell_type": "code",
   "execution_count": 6,
   "id": "261960d1-1119-4a63-ae40-46653761e5cf",
   "metadata": {},
   "outputs": [],
   "source": [
    "def imshow(img, label):\n",
    "    img = img / 2 + 0.5     # unnormalize\n",
    "    npimg = img.numpy()\n",
    "    plt.imshow(np.transpose(npimg, (1, 2, 0)))\n",
    "    plt.title(label)\n",
    "    plt.axis(\"off\")\n",
    "    plt.tight_layout()\n",
    "    plt.show()"
   ]
  },
  {
   "cell_type": "code",
   "execution_count": 7,
   "id": "f02c7903-4e7d-471e-9c57-68cb6d826d8e",
   "metadata": {},
   "outputs": [
    {
     "data": {
      "image/png": "[encoded data removed]",
      "text/plain": [
       "<Figure size 640x480 with 1 Axes>"
      ]
     },
     "metadata": {},
     "output_type": "display_data"
    }
   ],
   "source": [
    "imshow(torchvision.utils.make_grid(images), labels)"
   ]
  },
  {
   "cell_type": "code",
   "execution_count": 8,
   "id": "6fc4f505-7ead-461e-9097-3bc70e588cdf",
   "metadata": {},
   "outputs": [],
   "source": [
    "class CNN(nn.Module):\n",
    "    def __init__(self):\n",
    "        super(CNN, self).__init__()\n",
    "        self.conv1 = nn.Conv2d(3, 6, 5)\n",
    "        self.pool = nn.MaxPool2d(2, 2)\n",
    "        self.conv2 = nn.Conv2d(6, 16, 5)\n",
    "        self.fc1 = nn.Linear(16 * 5 * 5, 120)\n",
    "        self.fc2 = nn.Linear(120, 84)\n",
    "        self.fc3 = nn.Linear(84, 10)\n",
    "\n",
    "    def forward(self, x):\n",
    "        x = self.pool(F.relu(self.conv1(x)))\n",
    "        x = self.pool(F.relu(self.conv2(x)))\n",
    "        x = x.view(-1, 16 * 5 * 5)\n",
    "        x = F.relu(self.fc1(x))\n",
    "        x = F.relu(self.fc2(x))\n",
    "        x = self.fc3(x)\n",
    "        return x"
   ]
  },
  {
   "cell_type": "code",
   "execution_count": 9,
   "id": "9a8dab95-3f3e-410e-993b-40ecf9ed296b",
   "metadata": {},
   "outputs": [],
   "source": [
    "model = CNN().to(device)"
   ]
  },
  {
   "cell_type": "code",
   "execution_count": 10,
   "id": "1e5232ce-190d-4da3-8ad0-12160bc71194",
   "metadata": {},
   "outputs": [],
   "source": [
    "learning_rate = 0.001\n",
    "criterion = nn.CrossEntropyLoss()\n",
    "optimizer = torch.optim.SGD(model.parameters(), lr = learning_rate)\n",
    "epochs = 5\n",
    "n_total_steps = len(trainloader)"
   ]
  },
  {
   "cell_type": "code",
   "execution_count": 11,
   "id": "388859ee-7ef0-4599-bf9f-f2ee5005f542",
   "metadata": {},
   "outputs": [
    {
     "name": "stdout",
     "output_type": "stream",
     "text": [
      "Epoch # 1 / 5, step # 0 / 12500, loss: 2.346\n",
      "Epoch # 1 / 5, step # 4000 / 12500, loss: 2.321\n",
      "Epoch # 1 / 5, step # 8000 / 12500, loss: 2.289\n",
      "Epoch # 1 / 5, step # 12000 / 12500, loss: 1.701\n",
      "Epoch # 2 / 5, step # 0 / 12500, loss: 1.813\n",
      "Epoch # 2 / 5, step # 4000 / 12500, loss: 2.164\n",
      "Epoch # 2 / 5, step # 8000 / 12500, loss: 1.571\n",
      "Epoch # 2 / 5, step # 12000 / 12500, loss: 1.408\n",
      "Epoch # 3 / 5, step # 0 / 12500, loss: 2.432\n",
      "Epoch # 3 / 5, step # 4000 / 12500, loss: 1.945\n",
      "Epoch # 3 / 5, step # 8000 / 12500, loss: 2.012\n",
      "Epoch # 3 / 5, step # 12000 / 12500, loss: 1.393\n",
      "Epoch # 4 / 5, step # 0 / 12500, loss: 2.056\n",
      "Epoch # 4 / 5, step # 4000 / 12500, loss: 2.001\n",
      "Epoch # 4 / 5, step # 8000 / 12500, loss: 1.794\n",
      "Epoch # 4 / 5, step # 12000 / 12500, loss: 1.914\n",
      "Epoch # 5 / 5, step # 0 / 12500, loss: 1.613\n",
      "Epoch # 5 / 5, step # 4000 / 12500, loss: 1.935\n",
      "Epoch # 5 / 5, step # 8000 / 12500, loss: 1.350\n",
      "Epoch # 5 / 5, step # 12000 / 12500, loss: 1.239\n"
     ]
    }
   ],
   "source": [
    "for epoch in range(1, epochs + 1):\n",
    "    for i, (images, labels) in enumerate(trainloader):\n",
    "        images = images.to(device)\n",
    "        labels = labels.to(device)\n",
    "\n",
    "        predictions = model(images)\n",
    "\n",
    "        loss = criterion(predictions, labels)\n",
    "\n",
    "        loss.backward()\n",
    "        \n",
    "        optimizer.step()\n",
    "        \n",
    "        optimizer.zero_grad()\n",
    "\n",
    "        if (i % 4000) == 0:\n",
    "            print(f\"Epoch # {epoch} / {epochs}, step # {i} / {n_total_steps}, loss: {loss.item():.3f}\")"
   ]
  },
  {
   "cell_type": "code",
   "execution_count": 27,
   "id": "d054f4e3-6f05-4b3f-9866-ce1ddc04095c",
   "metadata": {},
   "outputs": [],
   "source": [
    "correct = 0\n",
    "total = 0\n",
    "total_predictions = []\n",
    "\n",
    "with torch.no_grad():\n",
    "    for images, labels in testloader:\n",
    "        images = images.to(device)\n",
    "        labels = labels.to(device)\n",
    "\n",
    "        predictions = model(images)\n",
    "\n",
    "        _, predictions = torch.max(predictions, 1)\n",
    "\n",
    "        for prediction in predictions:\n",
    "            total_predictions.append(prediction.item())\n",
    "\n",
    "        total += labels.size(0)\n",
    "        correct += (predictions == labels).sum().item()\n",
    "\n",
    "accuracy = (correct / total) * 100"
   ]
  },
  {
   "cell_type": "code",
   "execution_count": 28,
   "id": "c7fa6107-3d8b-4b2a-bb2f-1290b55676a4",
   "metadata": {},
   "outputs": [
    {
     "name": "stdout",
     "output_type": "stream",
     "text": [
      "Test Accuracy: 50.280%\n"
     ]
    }
   ],
   "source": [
    "print(f'Test Accuracy: {accuracy:.3f}%')"
   ]
  },
  {
   "cell_type": "code",
   "execution_count": 26,
   "id": "2a330a00-2f00-43a3-b496-b04f7bce33f5",
   "metadata": {},
   "outputs": [],
   "source": [
    "torch.save(model.state_dict(), \"./saved_models/cifar10cnn.pth\")"
   ]
  },
  {
   "cell_type": "code",
   "execution_count": null,
   "id": "4b702e9a-6d01-487f-9f36-419de1e8981b",
   "metadata": {},
   "outputs": [],
   "source": []
  }
 ],
 "metadata": {
  "kernelspec": {
   "display_name": "Python 3 (ipykernel)",
   "language": "python",
   "name": "python3"
  },
  "language_info": {
   "codemirror_mode": {
    "name": "ipython",
    "version": 3
   },
   "file_extension": ".py",
   "mimetype": "text/x-python",
   "name": "python",
   "nbconvert_exporter": "python",
   "pygments_lexer": "ipython3",
   "version": "3.12.6"
  }
 },
 "nbformat": 4,
 "nbformat_minor": 5
}
