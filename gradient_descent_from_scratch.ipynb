{
 "cells": [
  {
   "cell_type": "code",
   "execution_count": 1,
   "id": "acd65ecb-fd8d-4954-9d2e-45d6dd14bd34",
   "metadata": {},
   "outputs": [],
   "source": [
    "import numpy as np"
   ]
  },
  {
   "cell_type": "markdown",
   "id": "6e675a94-e354-4685-b24a-3fa6b5a1609f",
   "metadata": {},
   "source": [
    "# y = w * x\n",
    "# y = 2 * x"
   ]
  },
  {
   "cell_type": "code",
   "execution_count": 2,
   "id": "7f8ecd12-56c3-461b-9901-1a1ec6ac8477",
   "metadata": {},
   "outputs": [],
   "source": [
    "X = np.array([i for i in range(1, 5)], dtype = np.float32)\n",
    "y = np.array([i * 2 for i in range(1, 5)], dtype = np.float32)"
   ]
  },
  {
   "cell_type": "code",
   "execution_count": 3,
   "id": "f65354be-01ea-4ba0-9ce2-8b9f1ee0eefa",
   "metadata": {},
   "outputs": [
    {
     "data": {
      "text/plain": [
       "array([1., 2., 3., 4.], dtype=float32)"
      ]
     },
     "execution_count": 3,
     "metadata": {},
     "output_type": "execute_result"
    }
   ],
   "source": [
    "X"
   ]
  },
  {
   "cell_type": "code",
   "execution_count": 4,
   "id": "106482fc-2472-404a-8329-e8bcb3323e7e",
   "metadata": {},
   "outputs": [
    {
     "data": {
      "text/plain": [
       "array([2., 4., 6., 8.], dtype=float32)"
      ]
     },
     "execution_count": 4,
     "metadata": {},
     "output_type": "execute_result"
    }
   ],
   "source": [
    "y"
   ]
  },
  {
   "cell_type": "markdown",
   "id": "1837ced5-e464-45e1-956c-8bb0ba15a02f",
   "metadata": {},
   "source": [
    "# initializing weight, always initialize weight in floating point"
   ]
  },
  {
   "cell_type": "code",
   "execution_count": 5,
   "id": "d014ce5c-5d4e-4780-95ec-9e9185256576",
   "metadata": {},
   "outputs": [],
   "source": [
    "weight = 0.0"
   ]
  },
  {
   "cell_type": "markdown",
   "id": "f7097c81-5f97-4bde-a97f-cf6d3ec8b927",
   "metadata": {},
   "source": [
    "# model prediction"
   ]
  },
  {
   "cell_type": "code",
   "execution_count": 6,
   "id": "5132448e-9667-4e63-acf5-4629aec29701",
   "metadata": {},
   "outputs": [],
   "source": [
    "def predict(x):\n",
    "    return x * weight"
   ]
  },
  {
   "cell_type": "markdown",
   "id": "890302e8-4804-4675-b73d-747f56329f2d",
   "metadata": {},
   "source": [
    "# loss"
   ]
  },
  {
   "cell_type": "code",
   "execution_count": 7,
   "id": "727c4cee-d39c-4488-a49e-568159dbcf69",
   "metadata": {},
   "outputs": [],
   "source": [
    "def get_loss(y_predicted, y):\n",
    "    return ((y_predicted - y) ** 2).mean()"
   ]
  },
  {
   "cell_type": "markdown",
   "id": "c94e8530-8e10-4387-8276-dc2ff97f82ac",
   "metadata": {},
   "source": [
    "# gradient"
   ]
  },
  {
   "cell_type": "markdown",
   "id": "e188a416-fe6f-4edc-ab8b-28ac4dbefe56",
   "metadata": {},
   "source": [
    "## MSE = (1 / N) * summation((y_predicted - y) ** 2)\n",
    "## dJ / dw = (1 / N) * (2 * x * (y_predicted - y))"
   ]
  },
  {
   "cell_type": "code",
   "execution_count": 8,
   "id": "e4d1e242-3bc0-4d87-9073-05a78bbff318",
   "metadata": {},
   "outputs": [],
   "source": [
    "def gradient(x, y, y_predicted):\n",
    "    return np.dot(2 * x, y_predicted - y).mean()"
   ]
  },
  {
   "cell_type": "markdown",
   "id": "f623505d-19e6-4822-9b1a-d2d7d9848191",
   "metadata": {},
   "source": [
    "# Predictions before training"
   ]
  },
  {
   "cell_type": "code",
   "execution_count": 9,
   "id": "31dc1895-3d1e-40fc-99b7-1c403f49627e",
   "metadata": {},
   "outputs": [
    {
     "name": "stdout",
     "output_type": "stream",
     "text": [
      "Predictions before training for f(5): 0.0\n"
     ]
    }
   ],
   "source": [
    "print(f\"Predictions before training for f(5): {predict(5)}\")"
   ]
  },
  {
   "cell_type": "markdown",
   "id": "15dceb18-30b0-48fc-b8c0-b900375035e3",
   "metadata": {},
   "source": [
    "# Training"
   ]
  },
  {
   "cell_type": "code",
   "execution_count": 13,
   "id": "1db25ec6-ebb4-4d91-8691-07f1cbe9e449",
   "metadata": {},
   "outputs": [],
   "source": [
    "learning_rate = 0.01\n",
    "epochs = 20"
   ]
  },
  {
   "cell_type": "code",
   "execution_count": 14,
   "id": "e819ed6f-3b26-42a3-8ffb-a4ee2ef581a2",
   "metadata": {
    "scrolled": true
   },
   "outputs": [
    {
     "name": "stdout",
     "output_type": "stream",
     "text": [
      "Epoch # 1\n",
      "X: [1. 2. 3. 4.]\n",
      "y: [2. 4. 6. 8.]\n",
      "Predictions: [1.9997903 3.9995806 5.999371  7.9991612]\n",
      "Loss: 0.000\n",
      "Weight: 2.000\n",
      "\n",
      "Epoch # 2\n",
      "X: [1. 2. 3. 4.]\n",
      "y: [2. 4. 6. 8.]\n",
      "Predictions: [1.9999161 3.9998322 5.999748  7.9996643]\n",
      "Loss: 0.000\n",
      "Weight: 2.000\n",
      "\n",
      "Epoch # 3\n",
      "X: [1. 2. 3. 4.]\n",
      "y: [2. 4. 6. 8.]\n",
      "Predictions: [1.9999664 3.9999328 5.999899  7.9998655]\n",
      "Loss: 0.000\n",
      "Weight: 2.000\n",
      "\n",
      "Epoch # 4\n",
      "X: [1. 2. 3. 4.]\n",
      "y: [2. 4. 6. 8.]\n",
      "Predictions: [1.9999865 3.999973  5.9999595 7.999946 ]\n",
      "Loss: 0.000\n",
      "Weight: 2.000\n",
      "\n",
      "Epoch # 5\n",
      "X: [1. 2. 3. 4.]\n",
      "y: [2. 4. 6. 8.]\n",
      "Predictions: [1.9999946 3.9999893 5.999984  7.9999785]\n",
      "Loss: 0.000\n",
      "Weight: 2.000\n",
      "\n",
      "Epoch # 6\n",
      "X: [1. 2. 3. 4.]\n",
      "y: [2. 4. 6. 8.]\n",
      "Predictions: [1.9999979 3.9999957 5.9999933 7.9999914]\n",
      "Loss: 0.000\n",
      "Weight: 2.000\n",
      "\n",
      "Epoch # 7\n",
      "X: [1. 2. 3. 4.]\n",
      "y: [2. 4. 6. 8.]\n",
      "Predictions: [1.9999992 3.9999983 5.9999976 7.9999967]\n",
      "Loss: 0.000\n",
      "Weight: 2.000\n",
      "\n",
      "Epoch # 8\n",
      "X: [1. 2. 3. 4.]\n",
      "y: [2. 4. 6. 8.]\n",
      "Predictions: [1.9999996 3.9999993 5.999999  7.9999986]\n",
      "Loss: 0.000\n",
      "Weight: 2.000\n",
      "\n",
      "Epoch # 9\n",
      "X: [1. 2. 3. 4.]\n",
      "y: [2. 4. 6. 8.]\n",
      "Predictions: [1.9999999 3.9999998 5.9999995 7.9999995]\n",
      "Loss: 0.000\n",
      "Weight: 2.000\n",
      "\n",
      "Epoch # 10\n",
      "X: [1. 2. 3. 4.]\n",
      "y: [2. 4. 6. 8.]\n",
      "Predictions: [2. 4. 6. 8.]\n",
      "Loss: 0.000\n",
      "Weight: 2.000\n",
      "\n",
      "Epoch # 11\n",
      "X: [1. 2. 3. 4.]\n",
      "y: [2. 4. 6. 8.]\n",
      "Predictions: [2. 4. 6. 8.]\n",
      "Loss: 0.000\n",
      "Weight: 2.000\n",
      "\n",
      "Epoch # 12\n",
      "X: [1. 2. 3. 4.]\n",
      "y: [2. 4. 6. 8.]\n",
      "Predictions: [2. 4. 6. 8.]\n",
      "Loss: 0.000\n",
      "Weight: 2.000\n",
      "\n",
      "Epoch # 13\n",
      "X: [1. 2. 3. 4.]\n",
      "y: [2. 4. 6. 8.]\n",
      "Predictions: [2. 4. 6. 8.]\n",
      "Loss: 0.000\n",
      "Weight: 2.000\n",
      "\n",
      "Epoch # 14\n",
      "X: [1. 2. 3. 4.]\n",
      "y: [2. 4. 6. 8.]\n",
      "Predictions: [2. 4. 6. 8.]\n",
      "Loss: 0.000\n",
      "Weight: 2.000\n",
      "\n",
      "Epoch # 15\n",
      "X: [1. 2. 3. 4.]\n",
      "y: [2. 4. 6. 8.]\n",
      "Predictions: [2. 4. 6. 8.]\n",
      "Loss: 0.000\n",
      "Weight: 2.000\n",
      "\n",
      "Epoch # 16\n",
      "X: [1. 2. 3. 4.]\n",
      "y: [2. 4. 6. 8.]\n",
      "Predictions: [2. 4. 6. 8.]\n",
      "Loss: 0.000\n",
      "Weight: 2.000\n",
      "\n",
      "Epoch # 17\n",
      "X: [1. 2. 3. 4.]\n",
      "y: [2. 4. 6. 8.]\n",
      "Predictions: [2. 4. 6. 8.]\n",
      "Loss: 0.000\n",
      "Weight: 2.000\n",
      "\n",
      "Epoch # 18\n",
      "X: [1. 2. 3. 4.]\n",
      "y: [2. 4. 6. 8.]\n",
      "Predictions: [2. 4. 6. 8.]\n",
      "Loss: 0.000\n",
      "Weight: 2.000\n",
      "\n",
      "Epoch # 19\n",
      "X: [1. 2. 3. 4.]\n",
      "y: [2. 4. 6. 8.]\n",
      "Predictions: [2. 4. 6. 8.]\n",
      "Loss: 0.000\n",
      "Weight: 2.000\n",
      "\n",
      "Epoch # 20\n",
      "X: [1. 2. 3. 4.]\n",
      "y: [2. 4. 6. 8.]\n",
      "Predictions: [2. 4. 6. 8.]\n",
      "Loss: 0.000\n",
      "Weight: 2.000\n",
      "\n"
     ]
    }
   ],
   "source": [
    "for epoch in range(1, epochs + 1):\n",
    "    print(f\"Epoch # {epoch}\")\n",
    "    print(f\"X: {X}\")\n",
    "    print(f\"y: {y}\")\n",
    "    predictions = predict(X)\n",
    "    print(f\"Predictions: {predictions}\")\n",
    "    print(f\"Loss: {get_loss(predictions, y):.3f}\")\n",
    "    dw = gradient(X, y, predictions)\n",
    "    weight -= (learning_rate * dw)\n",
    "    print(f\"Weight: {weight:.3f}\")\n",
    "    print()"
   ]
  },
  {
   "cell_type": "code",
   "execution_count": 15,
   "id": "8581e728-be27-4621-aa6e-b58c4a057613",
   "metadata": {},
   "outputs": [
    {
     "name": "stdout",
     "output_type": "stream",
     "text": [
      "Predictions after training for f(5): 10.0\n"
     ]
    }
   ],
   "source": [
    "print(f\"Predictions after training for f(5): {predict(5)}\")"
   ]
  },
  {
   "cell_type": "code",
   "execution_count": null,
   "id": "9708b8e3-e5b9-467b-b213-1eaa24e9a696",
   "metadata": {},
   "outputs": [],
   "source": []
  },
  {
   "cell_type": "code",
   "execution_count": null,
   "id": "49e03c0c-f150-4707-b722-06c7c3ec3dd7",
   "metadata": {},
   "outputs": [],
   "source": []
  }
 ],
 "metadata": {
  "kernelspec": {
   "display_name": "Python 3 (ipykernel)",
   "language": "python",
   "name": "python3"
  },
  "language_info": {
   "codemirror_mode": {
    "name": "ipython",
    "version": 3
   },
   "file_extension": ".py",
   "mimetype": "text/x-python",
   "name": "python",
   "nbconvert_exporter": "python",
   "pygments_lexer": "ipython3",
   "version": "3.12.2"
  }
 },
 "nbformat": 4,
 "nbformat_minor": 5
}
