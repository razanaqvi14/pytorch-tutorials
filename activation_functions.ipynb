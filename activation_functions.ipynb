{
 "cells": [
  {
   "cell_type": "code",
   "execution_count": 4,
   "id": "56538592-41cc-4376-9dd2-5605f3784de3",
   "metadata": {},
   "outputs": [],
   "source": [
    "import torch\n",
    "import torch.nn as nn\n",
    "import torch.nn.functional as F"
   ]
  },
  {
   "cell_type": "markdown",
   "id": "f7f7764c-7857-41c6-a90b-abe8231d5569",
   "metadata": {},
   "source": [
    "# create nn Modules"
   ]
  },
  {
   "cell_type": "code",
   "execution_count": 2,
   "id": "d846a2b8-39a9-4b8a-ba97-50f01518630e",
   "metadata": {},
   "outputs": [],
   "source": [
    "class NeuralNet(nn.Module):\n",
    "    def __init__(self, input_size, hidden_size):\n",
    "        super(NeuralNet, self).__init()\n",
    "        self.lienar1 = nn.Linear(input_size, hidden_size)\n",
    "        self.relu = nn.ReLU()\n",
    "        self.lienar2 = nn.Linear(hidden_size, 1)\n",
    "        self.sigmoid = nn.Sigmoid()\n",
    "\n",
    "    def forward_pass(self, x):\n",
    "        output = self.linear1(x)\n",
    "        output = self.relu(output)\n",
    "        output = self.linear2(output)\n",
    "        output = self.sigmoid(output)\n",
    "        return output"
   ]
  },
  {
   "cell_type": "markdown",
   "id": "08dcf069-91cf-41cd-a731-b00ae22318e6",
   "metadata": {},
   "source": [
    "# use activation functions directly in forward pass"
   ]
  },
  {
   "cell_type": "code",
   "execution_count": 3,
   "id": "f7c29852-b807-4d71-8058-0bea8d5b6398",
   "metadata": {},
   "outputs": [],
   "source": [
    "class NeuralNet(nn.Module):\n",
    "    def __init__(self, input_size, hidden_size):\n",
    "        super(NeuralNet, self).__init()\n",
    "        self.lienar1 = nn.Linear(input_size, hidden_size)\n",
    "        self.lienar2 = nn.Linear(hidden_size, 1)\n",
    "\n",
    "    def forward_pass(self, x):\n",
    "        output = torch.relu(self.linear1(x))\n",
    "        output = torch.sigmoid(self.linear2(output))\n",
    "        return output"
   ]
  },
  {
   "cell_type": "markdown",
   "id": "9d5fedad-a8fd-44dd-bf75-2725399aed0d",
   "metadata": {},
   "source": [
    "#### in torch api, leaky relu is not directly available so we have to use it from torch.nn.functional api like this"
   ]
  },
  {
   "cell_type": "code",
   "execution_count": 7,
   "id": "eacdfa12-769b-4bea-b599-440ec7b0cd29",
   "metadata": {},
   "outputs": [],
   "source": [
    "# F.leaky_relu()"
   ]
  },
  {
   "cell_type": "code",
   "execution_count": null,
   "id": "6b21e7b8-8083-438a-9f28-a47d82cb0468",
   "metadata": {},
   "outputs": [],
   "source": []
  }
 ],
 "metadata": {
  "kernelspec": {
   "display_name": "Python 3 (ipykernel)",
   "language": "python",
   "name": "python3"
  },
  "language_info": {
   "codemirror_mode": {
    "name": "ipython",
    "version": 3
   },
   "file_extension": ".py",
   "mimetype": "text/x-python",
   "name": "python",
   "nbconvert_exporter": "python",
   "pygments_lexer": "ipython3",
   "version": "3.12.6"
  }
 },
 "nbformat": 4,
 "nbformat_minor": 5
}
