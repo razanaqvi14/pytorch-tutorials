{
 "cells": [
  {
   "cell_type": "code",
   "execution_count": 1,
   "id": "4ea631b3-8967-459d-8f98-a92deda292ad",
   "metadata": {},
   "outputs": [],
   "source": [
    "import torch\n",
    "import torch.nn as nn"
   ]
  },
  {
   "cell_type": "code",
   "execution_count": 2,
   "id": "422721b6-afae-4542-9ec9-bc8063859298",
   "metadata": {},
   "outputs": [],
   "source": [
    "class Model(nn.Module):\n",
    "    def __init__(self, n_input_features):\n",
    "        super().__init__()\n",
    "        self.model = nn.Sequential(\n",
    "            nn.Linear(n_input_features, 1),\n",
    "            nn.Sigmoid()\n",
    "        )\n",
    "\n",
    "    def forward(self, x):\n",
    "        return self.model(x)"
   ]
  },
  {
   "cell_type": "code",
   "execution_count": 3,
   "id": "6fd4a725-a6b2-4c7a-9d50-e745562a5bb2",
   "metadata": {},
   "outputs": [],
   "source": [
    "model = Model(n_input_features =  6)"
   ]
  },
  {
   "cell_type": "code",
   "execution_count": 4,
   "id": "37788995-46b4-46a6-8039-e694c3bb3f58",
   "metadata": {},
   "outputs": [
    {
     "data": {
      "text/plain": [
       "OrderedDict([('model.0.weight',\n",
       "              tensor([[-0.1254, -0.3106,  0.2015, -0.1332, -0.0418,  0.3071]])),\n",
       "             ('model.0.bias', tensor([-0.0534]))])"
      ]
     },
     "execution_count": 4,
     "metadata": {},
     "output_type": "execute_result"
    }
   ],
   "source": [
    "model.state_dict()"
   ]
  },
  {
   "cell_type": "code",
   "execution_count": 5,
   "id": "d9b580c6-fcc7-438f-b389-de79b6fd738c",
   "metadata": {},
   "outputs": [],
   "source": [
    "learning_rate = 0.01\n",
    "optimizer = torch.optim.SGD(model.parameters(), lr = learning_rate)"
   ]
  },
  {
   "cell_type": "code",
   "execution_count": 6,
   "id": "6ffbb151-4b86-4e43-bf6c-8b7c4adbb5b9",
   "metadata": {},
   "outputs": [
    {
     "data": {
      "text/plain": [
       "{'state': {},\n",
       " 'param_groups': [{'lr': 0.01,\n",
       "   'momentum': 0,\n",
       "   'dampening': 0,\n",
       "   'weight_decay': 0,\n",
       "   'nesterov': False,\n",
       "   'maximize': False,\n",
       "   'foreach': None,\n",
       "   'differentiable': False,\n",
       "   'params': [0, 1]}]}"
      ]
     },
     "execution_count": 6,
     "metadata": {},
     "output_type": "execute_result"
    }
   ],
   "source": [
    "optimizer.state_dict()"
   ]
  },
  {
   "cell_type": "markdown",
   "id": "644af755-8858-4d57-9540-70da6d783c71",
   "metadata": {},
   "source": [
    "# For saving checkpoint"
   ]
  },
  {
   "cell_type": "code",
   "execution_count": 7,
   "id": "e586d9ae-de1f-4d74-8d9a-e4c0c43bf813",
   "metadata": {},
   "outputs": [],
   "source": [
    "checkpoint = {\n",
    "    \"epoch\": 90,\n",
    "    \"model_state\": model.state_dict(),\n",
    "    \"optim_state\": optimizer.state_dict()\n",
    "}"
   ]
  },
  {
   "cell_type": "code",
   "execution_count": 8,
   "id": "37a7be87-9df8-4a57-a4f7-f60ae403092f",
   "metadata": {},
   "outputs": [],
   "source": [
    "torch.save(checkpoint, \"./saved_models/tutorial_checkpoint.pth\")"
   ]
  },
  {
   "cell_type": "markdown",
   "id": "f1b0a697-1eb1-4485-b876-502490943428",
   "metadata": {},
   "source": [
    "# For loading checkpoint"
   ]
  },
  {
   "cell_type": "code",
   "execution_count": 9,
   "id": "b274b62f-abba-4cd6-abd2-ac6071ea1135",
   "metadata": {},
   "outputs": [],
   "source": [
    "loaded_checkpoint = torch.load(\"./saved_models/tutorial_checkpoint.pth\")"
   ]
  },
  {
   "cell_type": "code",
   "execution_count": 10,
   "id": "21570c54-51f9-4a4b-8fb6-f4802088e52e",
   "metadata": {},
   "outputs": [
    {
     "data": {
      "text/plain": [
       "{'epoch': 90,\n",
       " 'model_state': OrderedDict([('model.0.weight',\n",
       "               tensor([[-0.1254, -0.3106,  0.2015, -0.1332, -0.0418,  0.3071]])),\n",
       "              ('model.0.bias', tensor([-0.0534]))]),\n",
       " 'optim_state': {'state': {},\n",
       "  'param_groups': [{'lr': 0.01,\n",
       "    'momentum': 0,\n",
       "    'dampening': 0,\n",
       "    'weight_decay': 0,\n",
       "    'nesterov': False,\n",
       "    'maximize': False,\n",
       "    'foreach': None,\n",
       "    'differentiable': False,\n",
       "    'params': [0, 1]}]}}"
      ]
     },
     "execution_count": 10,
     "metadata": {},
     "output_type": "execute_result"
    }
   ],
   "source": [
    "loaded_checkpoint"
   ]
  },
  {
   "cell_type": "markdown",
   "id": "c3f53993-b52c-449e-9dd6-d878c0620efa",
   "metadata": {},
   "source": [
    "## defining epoch, model, and optimizer again because we will load the saved values in them"
   ]
  },
  {
   "cell_type": "code",
   "execution_count": 11,
   "id": "80524408-46f4-462e-af71-54fc1a6e84a9",
   "metadata": {},
   "outputs": [],
   "source": [
    "model = Model(n_input_features =  6)"
   ]
  },
  {
   "cell_type": "code",
   "execution_count": 12,
   "id": "2acd2750-4042-4f2e-86b0-ba37a2d350aa",
   "metadata": {},
   "outputs": [],
   "source": [
    "optimizer = torch.optim.SGD(model.parameters(), lr = 0)"
   ]
  },
  {
   "cell_type": "markdown",
   "id": "500fbd05-fa22-4e41-af9f-8ffcccce96e0",
   "metadata": {},
   "source": [
    "## loading saved values in the defined epoch, model, and optimizer"
   ]
  },
  {
   "cell_type": "code",
   "execution_count": 13,
   "id": "fc867920-4f69-46ea-9c16-53aeeef8ac89",
   "metadata": {},
   "outputs": [],
   "source": [
    "epoch = loaded_checkpoint[\"epoch\"]"
   ]
  },
  {
   "cell_type": "code",
   "execution_count": 14,
   "id": "37de19a2-3328-4a57-98cb-de0ecf6c59a6",
   "metadata": {},
   "outputs": [
    {
     "data": {
      "text/plain": [
       "<All keys matched successfully>"
      ]
     },
     "execution_count": 14,
     "metadata": {},
     "output_type": "execute_result"
    }
   ],
   "source": [
    "model.load_state_dict(loaded_checkpoint[\"model_state\"])"
   ]
  },
  {
   "cell_type": "code",
   "execution_count": 15,
   "id": "35a3c26b-1acb-4bd0-a92e-0dc7bd77176a",
   "metadata": {},
   "outputs": [],
   "source": [
    "optimizer.load_state_dict(loaded_checkpoint[\"optim_state\"])"
   ]
  },
  {
   "cell_type": "code",
   "execution_count": 16,
   "id": "353060f1-adbd-41c9-a319-709ac58fd484",
   "metadata": {},
   "outputs": [
    {
     "data": {
      "text/plain": [
       "(90,\n",
       " OrderedDict([('model.0.weight',\n",
       "               tensor([[-0.1254, -0.3106,  0.2015, -0.1332, -0.0418,  0.3071]])),\n",
       "              ('model.0.bias', tensor([-0.0534]))]),\n",
       " {'state': {},\n",
       "  'param_groups': [{'lr': 0.01,\n",
       "    'momentum': 0,\n",
       "    'dampening': 0,\n",
       "    'weight_decay': 0,\n",
       "    'nesterov': False,\n",
       "    'maximize': False,\n",
       "    'foreach': None,\n",
       "    'differentiable': False,\n",
       "    'params': [0, 1]}]})"
      ]
     },
     "execution_count": 16,
     "metadata": {},
     "output_type": "execute_result"
    }
   ],
   "source": [
    "epoch, model.state_dict(), optimizer.state_dict()"
   ]
  },
  {
   "cell_type": "markdown",
   "id": "592b86fe-409d-4043-a0cd-5d3087f8315f",
   "metadata": {},
   "source": [
    "# Lazy Method"
   ]
  },
  {
   "cell_type": "code",
   "execution_count": 17,
   "id": "891fe59d-ef8c-4126-9979-1dd47ada2097",
   "metadata": {},
   "outputs": [],
   "source": [
    "# FILE = \"./saved_models/tutorial_lazy_method_model.pth\""
   ]
  },
  {
   "cell_type": "code",
   "execution_count": 18,
   "id": "f293d05f-620b-4851-a23b-7d710feeed72",
   "metadata": {},
   "outputs": [],
   "source": [
    "# torch.save(model, FILE)"
   ]
  },
  {
   "cell_type": "code",
   "execution_count": 19,
   "id": "c78c392f-242d-406e-bb76-b91e7c6369fd",
   "metadata": {},
   "outputs": [],
   "source": [
    "# model = torch.load(FILE)"
   ]
  },
  {
   "cell_type": "code",
   "execution_count": 20,
   "id": "3abdd292-6a80-4c49-bba4-8f68110e84a9",
   "metadata": {},
   "outputs": [],
   "source": [
    "# model"
   ]
  },
  {
   "cell_type": "markdown",
   "id": "221a89b7-1b24-48ac-a384-312691317996",
   "metadata": {},
   "source": [
    "## by saving model from this method the model size if 3KB"
   ]
  },
  {
   "cell_type": "markdown",
   "id": "e93c18b9-8457-407e-afe3-92fed848c983",
   "metadata": {},
   "source": [
    "# Recommended Method"
   ]
  },
  {
   "cell_type": "code",
   "execution_count": 21,
   "id": "3e134f1a-e9c8-4ec2-a8d7-360f1a88685b",
   "metadata": {},
   "outputs": [],
   "source": [
    "FILE = \"./saved_models/tutorial_recommended_method_model.pth\""
   ]
  },
  {
   "cell_type": "code",
   "execution_count": 22,
   "id": "b5cd2d5d-9b93-4024-acc9-d6639313bb86",
   "metadata": {},
   "outputs": [],
   "source": [
    "torch.save(model.state_dict(), FILE)"
   ]
  },
  {
   "cell_type": "markdown",
   "id": "d722f0ad-f61b-4ade-8f3c-1b836defca0b",
   "metadata": {},
   "source": [
    "## for loading model, first we have to define it"
   ]
  },
  {
   "cell_type": "code",
   "execution_count": 23,
   "id": "728d539d-7781-40cf-b0c0-295d7ae70593",
   "metadata": {},
   "outputs": [],
   "source": [
    "class Model(nn.Module):\n",
    "    def __init__(self, n_input_features):\n",
    "        super().__init__()\n",
    "        self.model = nn.Sequential(\n",
    "            nn.Linear(n_input_features, 1),\n",
    "            nn.Sigmoid()\n",
    "        )\n",
    "\n",
    "    def forward(self, x):\n",
    "        return self.model(x)"
   ]
  },
  {
   "cell_type": "code",
   "execution_count": 24,
   "id": "5576e3af-cf41-4c3f-8862-1133f8375c59",
   "metadata": {},
   "outputs": [],
   "source": [
    "loaded_model = Model(n_input_features =  6)"
   ]
  },
  {
   "cell_type": "code",
   "execution_count": 25,
   "id": "5f8d4b56-c10b-49a1-8ebc-7b390ebc5a48",
   "metadata": {},
   "outputs": [
    {
     "data": {
      "text/plain": [
       "<All keys matched successfully>"
      ]
     },
     "execution_count": 25,
     "metadata": {},
     "output_type": "execute_result"
    }
   ],
   "source": [
    "loaded_model.load_state_dict(torch.load(FILE))"
   ]
  },
  {
   "cell_type": "code",
   "execution_count": 26,
   "id": "3e3f7a3b-55c6-4284-b9f4-437aff61eee3",
   "metadata": {},
   "outputs": [
    {
     "data": {
      "text/plain": [
       "Model(\n",
       "  (model): Sequential(\n",
       "    (0): Linear(in_features=6, out_features=1, bias=True)\n",
       "    (1): Sigmoid()\n",
       "  )\n",
       ")"
      ]
     },
     "execution_count": 26,
     "metadata": {},
     "output_type": "execute_result"
    }
   ],
   "source": [
    "loaded_model.eval()"
   ]
  },
  {
   "cell_type": "markdown",
   "id": "a2aec528-295f-4b26-a044-f46c019fbbf7",
   "metadata": {},
   "source": [
    "## by saving model from this method the model size if 2KB thats why it is the recommened method"
   ]
  }
 ],
 "metadata": {
  "kernelspec": {
   "display_name": "Python 3 (ipykernel)",
   "language": "python",
   "name": "python3"
  },
  "language_info": {
   "codemirror_mode": {
    "name": "ipython",
    "version": 3
   },
   "file_extension": ".py",
   "mimetype": "text/x-python",
   "name": "python",
   "nbconvert_exporter": "python",
   "pygments_lexer": "ipython3",
   "version": "3.12.6"
  }
 },
 "nbformat": 4,
 "nbformat_minor": 5
}
