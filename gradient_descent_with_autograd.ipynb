{
 "cells": [
  {
   "cell_type": "code",
   "execution_count": 1,
   "id": "0c8545ce-6dc5-4f9a-a36c-77e4adac4f89",
   "metadata": {},
   "outputs": [
    {
     "name": "stderr",
     "output_type": "stream",
     "text": [
      "\n",
      "A module that was compiled using NumPy 1.x cannot be run in\n",
      "NumPy 2.1.1 as it may crash. To support both 1.x and 2.x\n",
      "versions of NumPy, modules must be compiled with NumPy 2.0.\n",
      "Some module may need to rebuild instead e.g. with 'pybind11>=2.12'.\n",
      "\n",
      "If you are a user of the module, the easiest solution will be to\n",
      "downgrade to 'numpy<2' or try to upgrade the affected module.\n",
      "We expect that some modules will need time to support NumPy 2.\n",
      "\n",
      "Traceback (most recent call last):  File \"<frozen runpy>\", line 198, in _run_module_as_main\n",
      "  File \"<frozen runpy>\", line 88, in _run_code\n",
      "  File \"C:\\Users\\razan\\AppData\\Local\\Programs\\Python\\Python312\\Lib\\site-packages\\ipykernel_launcher.py\", line 18, in <module>\n",
      "    app.launch_new_instance()\n",
      "  File \"C:\\Users\\razan\\AppData\\Local\\Programs\\Python\\Python312\\Lib\\site-packages\\traitlets\\config\\application.py\", line 1075, in launch_instance\n",
      "    app.start()\n",
      "  File \"C:\\Users\\razan\\AppData\\Local\\Programs\\Python\\Python312\\Lib\\site-packages\\ipykernel\\kernelapp.py\", line 739, in start\n",
      "    self.io_loop.start()\n",
      "  File \"C:\\Users\\razan\\AppData\\Local\\Programs\\Python\\Python312\\Lib\\site-packages\\tornado\\platform\\asyncio.py\", line 205, in start\n",
      "    self.asyncio_loop.run_forever()\n",
      "  File \"C:\\Users\\razan\\AppData\\Local\\Programs\\Python\\Python312\\Lib\\asyncio\\base_events.py\", line 639, in run_forever\n",
      "    self._run_once()\n",
      "  File \"C:\\Users\\razan\\AppData\\Local\\Programs\\Python\\Python312\\Lib\\asyncio\\base_events.py\", line 1985, in _run_once\n",
      "    handle._run()\n",
      "  File \"C:\\Users\\razan\\AppData\\Local\\Programs\\Python\\Python312\\Lib\\asyncio\\events.py\", line 88, in _run\n",
      "    self._context.run(self._callback, *self._args)\n",
      "  File \"C:\\Users\\razan\\AppData\\Local\\Programs\\Python\\Python312\\Lib\\site-packages\\ipykernel\\kernelbase.py\", line 545, in dispatch_queue\n",
      "    await self.process_one()\n",
      "  File \"C:\\Users\\razan\\AppData\\Local\\Programs\\Python\\Python312\\Lib\\site-packages\\ipykernel\\kernelbase.py\", line 534, in process_one\n",
      "    await dispatch(*args)\n",
      "  File \"C:\\Users\\razan\\AppData\\Local\\Programs\\Python\\Python312\\Lib\\site-packages\\ipykernel\\kernelbase.py\", line 437, in dispatch_shell\n",
      "    await result\n",
      "  File \"C:\\Users\\razan\\AppData\\Local\\Programs\\Python\\Python312\\Lib\\site-packages\\ipykernel\\ipkernel.py\", line 359, in execute_request\n",
      "    await super().execute_request(stream, ident, parent)\n",
      "  File \"C:\\Users\\razan\\AppData\\Local\\Programs\\Python\\Python312\\Lib\\site-packages\\ipykernel\\kernelbase.py\", line 778, in execute_request\n",
      "    reply_content = await reply_content\n",
      "  File \"C:\\Users\\razan\\AppData\\Local\\Programs\\Python\\Python312\\Lib\\site-packages\\ipykernel\\ipkernel.py\", line 446, in do_execute\n",
      "    res = shell.run_cell(\n",
      "  File \"C:\\Users\\razan\\AppData\\Local\\Programs\\Python\\Python312\\Lib\\site-packages\\ipykernel\\zmqshell.py\", line 549, in run_cell\n",
      "    return super().run_cell(*args, **kwargs)\n",
      "  File \"C:\\Users\\razan\\AppData\\Local\\Programs\\Python\\Python312\\Lib\\site-packages\\IPython\\core\\interactiveshell.py\", line 3075, in run_cell\n",
      "    result = self._run_cell(\n",
      "  File \"C:\\Users\\razan\\AppData\\Local\\Programs\\Python\\Python312\\Lib\\site-packages\\IPython\\core\\interactiveshell.py\", line 3130, in _run_cell\n",
      "    result = runner(coro)\n",
      "  File \"C:\\Users\\razan\\AppData\\Local\\Programs\\Python\\Python312\\Lib\\site-packages\\IPython\\core\\async_helpers.py\", line 129, in _pseudo_sync_runner\n",
      "    coro.send(None)\n",
      "  File \"C:\\Users\\razan\\AppData\\Local\\Programs\\Python\\Python312\\Lib\\site-packages\\IPython\\core\\interactiveshell.py\", line 3334, in run_cell_async\n",
      "    has_raised = await self.run_ast_nodes(code_ast.body, cell_name,\n",
      "  File \"C:\\Users\\razan\\AppData\\Local\\Programs\\Python\\Python312\\Lib\\site-packages\\IPython\\core\\interactiveshell.py\", line 3517, in run_ast_nodes\n",
      "    if await self.run_code(code, result, async_=asy):\n",
      "  File \"C:\\Users\\razan\\AppData\\Local\\Programs\\Python\\Python312\\Lib\\site-packages\\IPython\\core\\interactiveshell.py\", line 3577, in run_code\n",
      "    exec(code_obj, self.user_global_ns, self.user_ns)\n",
      "  File \"C:\\Users\\razan\\AppData\\Local\\Temp\\ipykernel_5344\\4265195184.py\", line 1, in <module>\n",
      "    import torch\n",
      "  File \"C:\\Users\\razan\\AppData\\Local\\Programs\\Python\\Python312\\Lib\\site-packages\\torch\\__init__.py\", line 1477, in <module>\n",
      "    from .functional import *  # noqa: F403\n",
      "  File \"C:\\Users\\razan\\AppData\\Local\\Programs\\Python\\Python312\\Lib\\site-packages\\torch\\functional.py\", line 9, in <module>\n",
      "    import torch.nn.functional as F\n",
      "  File \"C:\\Users\\razan\\AppData\\Local\\Programs\\Python\\Python312\\Lib\\site-packages\\torch\\nn\\__init__.py\", line 1, in <module>\n",
      "    from .modules import *  # noqa: F403\n",
      "  File \"C:\\Users\\razan\\AppData\\Local\\Programs\\Python\\Python312\\Lib\\site-packages\\torch\\nn\\modules\\__init__.py\", line 35, in <module>\n",
      "    from .transformer import TransformerEncoder, TransformerDecoder, \\\n",
      "  File \"C:\\Users\\razan\\AppData\\Local\\Programs\\Python\\Python312\\Lib\\site-packages\\torch\\nn\\modules\\transformer.py\", line 20, in <module>\n",
      "    device: torch.device = torch.device(torch._C._get_default_device()),  # torch.device('cpu'),\n",
      "C:\\Users\\razan\\AppData\\Local\\Programs\\Python\\Python312\\Lib\\site-packages\\torch\\nn\\modules\\transformer.py:20: UserWarning: Failed to initialize NumPy: _ARRAY_API not found (Triggered internally at ..\\torch\\csrc\\utils\\tensor_numpy.cpp:84.)\n",
      "  device: torch.device = torch.device(torch._C._get_default_device()),  # torch.device('cpu'),\n"
     ]
    }
   ],
   "source": [
    "import torch"
   ]
  },
  {
   "cell_type": "code",
   "execution_count": 2,
   "id": "51f39b23-863a-43a6-82b3-041f64968de6",
   "metadata": {},
   "outputs": [],
   "source": [
    "X = torch.tensor([i for i in range(1, 5)], dtype = torch.float32)\n",
    "y = torch.tensor([i * 2 for i in range(1, 5)], dtype = torch.float32)\n",
    "weight = torch.tensor(0., requires_grad = True)"
   ]
  },
  {
   "cell_type": "code",
   "execution_count": 3,
   "id": "1bc88034-a862-4e9f-8c4e-9e7e08fca40d",
   "metadata": {},
   "outputs": [
    {
     "data": {
      "text/plain": [
       "(tensor([1., 2., 3., 4.]),\n",
       " tensor([2., 4., 6., 8.]),\n",
       " tensor(0., requires_grad=True))"
      ]
     },
     "execution_count": 3,
     "metadata": {},
     "output_type": "execute_result"
    }
   ],
   "source": [
    "X, y, weight"
   ]
  },
  {
   "cell_type": "code",
   "execution_count": 4,
   "id": "65140fe6-af06-46f5-9205-bcb610260d29",
   "metadata": {},
   "outputs": [],
   "source": [
    "def predict(x):\n",
    "    return x * weight"
   ]
  },
  {
   "cell_type": "code",
   "execution_count": 5,
   "id": "a5f8d572-0b3a-4ad3-b567-f04779793a7d",
   "metadata": {},
   "outputs": [],
   "source": [
    "def get_loss(predictions, y):\n",
    "    return ((predictions - y) ** 2).mean()"
   ]
  },
  {
   "cell_type": "code",
   "execution_count": 6,
   "id": "d256fb61-f675-4383-a3c6-9c8f7a107ab8",
   "metadata": {},
   "outputs": [],
   "source": [
    "learning_rate = 0.01\n",
    "epochs = 100"
   ]
  },
  {
   "cell_type": "code",
   "execution_count": 7,
   "id": "cd4875e1-1697-41c8-854b-c64b8789048e",
   "metadata": {},
   "outputs": [
    {
     "name": "stdout",
     "output_type": "stream",
     "text": [
      "Epoch # 10\n",
      "X: tensor([1., 2., 3., 4.])\n",
      "y: tensor([2., 4., 6., 8.])\n",
      "Predictions: tensor([1.5368, 3.0735, 4.6103, 6.1471], grad_fn=<MulBackward0>)\n",
      "Weight: 1.6062512397766113\n",
      "Loss: 1.609391689300537\n",
      "\n",
      "Epoch # 20\n",
      "X: tensor([1., 2., 3., 4.])\n",
      "y: tensor([2., 4., 6., 8.])\n",
      "Predictions: tensor([1.9088, 3.8176, 5.7264, 7.6352], grad_fn=<MulBackward0>)\n",
      "Weight: 1.9224810600280762\n",
      "Loss: 0.0623791441321373\n",
      "\n",
      "Epoch # 30\n",
      "X: tensor([1., 2., 3., 4.])\n",
      "y: tensor([2., 4., 6., 8.])\n",
      "Predictions: tensor([1.9820, 3.9641, 5.9461, 7.9282], grad_fn=<MulBackward0>)\n",
      "Weight: 1.9847384691238403\n",
      "Loss: 0.0024177832528948784\n",
      "\n",
      "Epoch # 40\n",
      "X: tensor([1., 2., 3., 4.])\n",
      "y: tensor([2., 4., 6., 8.])\n",
      "Predictions: tensor([1.9965, 3.9929, 5.9894, 7.9859], grad_fn=<MulBackward0>)\n",
      "Weight: 1.996995449066162\n",
      "Loss: 9.371075429953635e-05\n",
      "\n",
      "Epoch # 50\n",
      "X: tensor([1., 2., 3., 4.])\n",
      "y: tensor([2., 4., 6., 8.])\n",
      "Predictions: tensor([1.9993, 3.9986, 5.9979, 7.9972], grad_fn=<MulBackward0>)\n",
      "Weight: 1.999408483505249\n",
      "Loss: 3.632284688137588e-06\n",
      "\n",
      "Epoch # 60\n",
      "X: tensor([1., 2., 3., 4.])\n",
      "y: tensor([2., 4., 6., 8.])\n",
      "Predictions: tensor([1.9999, 3.9997, 5.9996, 7.9995], grad_fn=<MulBackward0>)\n",
      "Weight: 1.9998835325241089\n",
      "Loss: 1.4073337695208465e-07\n",
      "\n",
      "Epoch # 70\n",
      "X: tensor([1., 2., 3., 4.])\n",
      "y: tensor([2., 4., 6., 8.])\n",
      "Predictions: tensor([2.0000, 3.9999, 5.9999, 7.9999], grad_fn=<MulBackward0>)\n",
      "Weight: 1.9999769926071167\n",
      "Loss: 5.487198251330483e-09\n",
      "\n",
      "Epoch # 80\n",
      "X: tensor([1., 2., 3., 4.])\n",
      "y: tensor([2., 4., 6., 8.])\n",
      "Predictions: tensor([2.0000, 4.0000, 6.0000, 8.0000], grad_fn=<MulBackward0>)\n",
      "Weight: 1.9999955892562866\n",
      "Loss: 2.063416104647331e-10\n",
      "\n",
      "Epoch # 90\n",
      "X: tensor([1., 2., 3., 4.])\n",
      "y: tensor([2., 4., 6., 8.])\n",
      "Predictions: tensor([2.0000, 4.0000, 6.0000, 8.0000], grad_fn=<MulBackward0>)\n",
      "Weight: 1.9999991655349731\n",
      "Loss: 6.821210263296962e-12\n",
      "\n",
      "Epoch # 100\n",
      "X: tensor([1., 2., 3., 4.])\n",
      "y: tensor([2., 4., 6., 8.])\n",
      "Predictions: tensor([2.0000, 4.0000, 6.0000, 8.0000], grad_fn=<MulBackward0>)\n",
      "Weight: 1.9999996423721313\n",
      "Loss: 8.988365607365267e-13\n",
      "\n"
     ]
    }
   ],
   "source": [
    "for epoch in range(1, epochs + 1):\n",
    "    predictions = predict(X)\n",
    "    loss = get_loss(predictions, y)\n",
    "    loss.backward() # dloss / dweights\n",
    "    with torch.no_grad(): # to update a variable which has requires_grad = True we have to update it inside this loop\n",
    "        weight -= (learning_rate * weight.grad)\n",
    "    weight.grad.zero_() # before the next iteration we have to zero our gradients or else it will keep accumulating the weights into the older ones\n",
    "    if epoch % 10 == 0:\n",
    "        print(f\"Epoch # {epoch}\")\n",
    "        print(f\"X: {X}\")\n",
    "        print(f\"y: {y}\")\n",
    "        print(f\"Predictions: {predictions}\")\n",
    "        print(f\"Weight: {weight}\")\n",
    "        print(f\"Loss: {loss}\")\n",
    "        print()"
   ]
  },
  {
   "cell_type": "code",
   "execution_count": null,
   "id": "1ddd9e4c-f970-461b-839c-e552f7ba76de",
   "metadata": {},
   "outputs": [],
   "source": []
  }
 ],
 "metadata": {
  "kernelspec": {
   "display_name": "Python 3 (ipykernel)",
   "language": "python",
   "name": "python3"
  },
  "language_info": {
   "codemirror_mode": {
    "name": "ipython",
    "version": 3
   },
   "file_extension": ".py",
   "mimetype": "text/x-python",
   "name": "python",
   "nbconvert_exporter": "python",
   "pygments_lexer": "ipython3",
   "version": "3.12.2"
  }
 },
 "nbformat": 4,
 "nbformat_minor": 5
}
