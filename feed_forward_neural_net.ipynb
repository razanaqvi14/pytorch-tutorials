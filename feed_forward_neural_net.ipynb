{
 "cells": [
  {
   "cell_type": "code",
   "execution_count": 1,
   "id": "9721c991-a73b-4b65-8e63-985479efc473",
   "metadata": {},
   "outputs": [],
   "source": [
    "import torch\n",
    "import torch.nn as nn\n",
    "import torchvision\n",
    "from torchvision.transforms import transforms\n",
    "import matplotlib.pyplot as plt"
   ]
  },
  {
   "cell_type": "code",
   "execution_count": 2,
   "id": "35b66e2b-38a8-437e-a5fe-e99c12fc954a",
   "metadata": {},
   "outputs": [],
   "source": [
    "plt.style.use(\"ggplot\")"
   ]
  },
  {
   "cell_type": "code",
   "execution_count": 3,
   "id": "3532864a-bc1d-4e26-855e-7e4e542311b4",
   "metadata": {},
   "outputs": [],
   "source": [
    "device = torch.device(\"cuda\" if torch.cuda.is_available() else \"cpu\")"
   ]
  },
  {
   "cell_type": "code",
   "execution_count": 4,
   "id": "2bbfaeed-c007-499b-8508-2e9d943d37e2",
   "metadata": {},
   "outputs": [],
   "source": [
    "training_dataset = torchvision.datasets.MNIST(root = \"./data\",\n",
    "                                              train = True,\n",
    "                                              transform = transforms.ToTensor(),\n",
    "                                              download = True)\n",
    "\n",
    "test_dataset = torchvision.datasets.MNIST(root = \"./data\",\n",
    "                                              train = False,\n",
    "                                              transform = transforms.ToTensor(),\n",
    "                                              download = True)"
   ]
  },
  {
   "cell_type": "code",
   "execution_count": 5,
   "id": "22d72e98-dbfa-4941-93bc-d8b51f8a7c2d",
   "metadata": {},
   "outputs": [],
   "source": [
    "batch_size = 100"
   ]
  },
  {
   "cell_type": "code",
   "execution_count": 6,
   "id": "579d72d3-8b8c-4722-a00f-bb568eedb716",
   "metadata": {},
   "outputs": [],
   "source": [
    "train_loader = torch.utils.data.DataLoader(dataset = training_dataset,\n",
    "                                           batch_size = batch_size,\n",
    "                                           shuffle = True)\n",
    "\n",
    "test_loader = torch.utils.data.DataLoader(dataset = test_dataset,\n",
    "                                           batch_size = batch_size,\n",
    "                                           shuffle = False)"
   ]
  },
  {
   "cell_type": "code",
   "execution_count": 7,
   "id": "71493aa1-4878-4ab6-b5ef-1f3f1add26db",
   "metadata": {},
   "outputs": [
    {
     "name": "stdout",
     "output_type": "stream",
     "text": [
      "There are total 600 batches in our training dataset with each batch of size 100, so there are total of 60000 samples\n",
      "There are total 100 batches in our testing dataset with each batch of size 100, so there are total of 10000 samples\n"
     ]
    }
   ],
   "source": [
    "print(f\"There are total {len(train_loader)} batches in our training dataset with each batch of size {batch_size}, so there are total of {len(train_loader) * batch_size} samples\")\n",
    "print(f\"There are total {len(test_loader)} batches in our testing dataset with each batch of size {batch_size}, so there are total of {len(test_loader) * batch_size} samples\")"
   ]
  },
  {
   "cell_type": "code",
   "execution_count": 8,
   "id": "07401b5d-6a74-4907-b7d5-ea8457145dc3",
   "metadata": {},
   "outputs": [],
   "source": [
    "examples = iter(train_loader)"
   ]
  },
  {
   "cell_type": "code",
   "execution_count": 9,
   "id": "df390aa3-a904-47b2-858d-a115a5650f59",
   "metadata": {},
   "outputs": [],
   "source": [
    "examples_data, examples_targets = next(examples)"
   ]
  },
  {
   "cell_type": "code",
   "execution_count": 10,
   "id": "7386de6c-f43a-4962-8536-c36a54b18799",
   "metadata": {},
   "outputs": [
    {
     "data": {
      "text/plain": [
       "(torch.Size([100, 1, 28, 28]), torch.Size([100]))"
      ]
     },
     "execution_count": 10,
     "metadata": {},
     "output_type": "execute_result"
    }
   ],
   "source": [
    "examples_data.shape, examples_targets.shape"
   ]
  },
  {
   "cell_type": "code",
   "execution_count": 11,
   "id": "8a3772b1-a7df-4d68-8018-dfc063618bb3",
   "metadata": {},
   "outputs": [
    {
     "data": {
      "image/png": "[encoded data removed]",
      "text/plain": [
       "<Figure size 1500x500 with 6 Axes>"
      ]
     },
     "metadata": {},
     "output_type": "display_data"
    }
   ],
   "source": [
    "plt.figure(figsize = (15, 5))\n",
    "\n",
    "for i in range(6):\n",
    "    plt.subplot(2, 3, i + 1)\n",
    "    plt.imshow(examples_data[i][0])\n",
    "    plt.title(f\"The digit below is: {examples_targets[i].item()}\")\n",
    "    plt.axis(\"off\")\n",
    "\n",
    "plt.tight_layout()\n",
    "plt.show()"
   ]
  },
  {
   "cell_type": "code",
   "execution_count": 12,
   "id": "93282cbb-0df0-4bdf-a255-22d8c7c74b4b",
   "metadata": {},
   "outputs": [],
   "source": [
    "input_size = 784\n",
    "hidden_size = 100\n",
    "num_classes = 10"
   ]
  },
  {
   "cell_type": "code",
   "execution_count": 13,
   "id": "c584beaa-0541-404d-a9d8-1e9a08f62f35",
   "metadata": {},
   "outputs": [],
   "source": [
    "class NeuralNet(nn.Module):\n",
    "    def __init__(self, input_size, hidden_size, num_classes):\n",
    "        super(NeuralNet, self).__init__()\n",
    "        self.linear1 = nn.Linear(input_size, hidden_size)\n",
    "        self.relu = nn.ReLU()\n",
    "        self.linear2 = nn.Linear(hidden_size, num_classes)\n",
    "\n",
    "    def forward(self, x):\n",
    "        output = self.linear1(x)\n",
    "        output = self.relu(output)\n",
    "        output = self.linear2(output)\n",
    "        return output"
   ]
  },
  {
   "cell_type": "code",
   "execution_count": 14,
   "id": "58cf329d-87d9-4c51-a970-2a11e1d82054",
   "metadata": {},
   "outputs": [],
   "source": [
    "model = NeuralNet(input_size, hidden_size, num_classes).to(device)"
   ]
  },
  {
   "cell_type": "code",
   "execution_count": 15,
   "id": "e287e1f7-89a1-4981-a8c6-4266c20e9de7",
   "metadata": {},
   "outputs": [],
   "source": [
    "learning_rate = 0.001"
   ]
  },
  {
   "cell_type": "code",
   "execution_count": 16,
   "id": "e72ac3d7-8e39-4ffb-b921-834e5b8e3205",
   "metadata": {},
   "outputs": [],
   "source": [
    "criterion = nn.CrossEntropyLoss()\n",
    "optimizer = torch.optim.Adam(model.parameters(), lr = learning_rate)"
   ]
  },
  {
   "cell_type": "code",
   "execution_count": 17,
   "id": "70b67231-01e4-4270-9a6c-9830d186a03c",
   "metadata": {},
   "outputs": [],
   "source": [
    "epochs = 3\n",
    "n_total_steps = len(train_loader)"
   ]
  },
  {
   "cell_type": "code",
   "execution_count": 18,
   "id": "67676a4b-4bc8-40f4-82af-46a9351ef2c3",
   "metadata": {},
   "outputs": [
    {
     "name": "stdout",
     "output_type": "stream",
     "text": [
      "Epoch # 1 / 3, step # 0 / 600, loss: 2.298\n",
      "Epoch # 1 / 3, step # 100 / 600, loss: 0.393\n",
      "Epoch # 1 / 3, step # 200 / 600, loss: 0.395\n",
      "Epoch # 1 / 3, step # 300 / 600, loss: 0.325\n",
      "Epoch # 1 / 3, step # 400 / 600, loss: 0.315\n",
      "Epoch # 1 / 3, step # 500 / 600, loss: 0.240\n",
      "\n",
      "Epoch # 2 / 3, step # 0 / 600, loss: 0.174\n",
      "Epoch # 2 / 3, step # 100 / 600, loss: 0.139\n",
      "Epoch # 2 / 3, step # 200 / 600, loss: 0.113\n",
      "Epoch # 2 / 3, step # 300 / 600, loss: 0.117\n",
      "Epoch # 2 / 3, step # 400 / 600, loss: 0.226\n",
      "Epoch # 2 / 3, step # 500 / 600, loss: 0.119\n",
      "\n",
      "Epoch # 3 / 3, step # 0 / 600, loss: 0.121\n",
      "Epoch # 3 / 3, step # 100 / 600, loss: 0.252\n",
      "Epoch # 3 / 3, step # 200 / 600, loss: 0.204\n",
      "Epoch # 3 / 3, step # 300 / 600, loss: 0.177\n",
      "Epoch # 3 / 3, step # 400 / 600, loss: 0.124\n",
      "Epoch # 3 / 3, step # 500 / 600, loss: 0.141\n",
      "\n"
     ]
    }
   ],
   "source": [
    "for epoch in range(1, epochs + 1):\n",
    "    for i, (images_batch, labels_batch) in enumerate(train_loader):\n",
    "        images_batch = images_batch.view(-1, input_size).to(device)\n",
    "        labels_batch = labels_batch.to(device)\n",
    "\n",
    "        predictions = model(images_batch)\n",
    "        loss = criterion(predictions, labels_batch)\n",
    "\n",
    "        loss.backward()\n",
    "\n",
    "        optimizer.step()\n",
    "\n",
    "        optimizer.zero_grad()\n",
    "\n",
    "        if i % 100 == 0:\n",
    "            print(f\"Epoch # {epoch} / {epochs}, step # {i} / {n_total_steps}, loss: {loss:.3f}\")\n",
    "    print()"
   ]
  },
  {
   "cell_type": "code",
   "execution_count": 19,
   "id": "2e6f231e-cd78-4038-b0b8-aabf9f3a1c75",
   "metadata": {},
   "outputs": [],
   "source": [
    "correct = 0\n",
    "total = 0\n",
    "\n",
    "with torch.no_grad():\n",
    "    for images_batch, labels_batch in test_loader:\n",
    "        images_batch = images_batch.view(-1, input_size).to(device)\n",
    "        labels_batch = labels_batch.to(device)\n",
    "        \n",
    "        predictions = model(images_batch)\n",
    "        _, predictions = torch.max(predictions, 1)\n",
    "        \n",
    "        total += labels_batch.size(0)\n",
    "        correct += (predictions == labels_batch).sum().item()\n",
    "\n",
    "accuracy = (correct / total) * 100"
   ]
  },
  {
   "cell_type": "code",
   "execution_count": 20,
   "id": "320b3034-5d68-4e03-b4c9-04813fa3ee8a",
   "metadata": {},
   "outputs": [
    {
     "name": "stdout",
     "output_type": "stream",
     "text": [
      "Test Accuracy: 96.250%\n"
     ]
    }
   ],
   "source": [
    "print(f'Test Accuracy: {accuracy:.3f}%')"
   ]
  },
  {
   "cell_type": "code",
   "execution_count": null,
   "id": "47156d1e-0fdc-476c-9976-a58b781c8bd7",
   "metadata": {},
   "outputs": [],
   "source": []
  }
 ],
 "metadata": {
  "kernelspec": {
   "display_name": "Python 3 (ipykernel)",
   "language": "python",
   "name": "python3"
  },
  "language_info": {
   "codemirror_mode": {
    "name": "ipython",
    "version": 3
   },
   "file_extension": ".py",
   "mimetype": "text/x-python",
   "name": "python",
   "nbconvert_exporter": "python",
   "pygments_lexer": "ipython3",
   "version": "3.12.6"
  }
 },
 "nbformat": 4,
 "nbformat_minor": 5
}
