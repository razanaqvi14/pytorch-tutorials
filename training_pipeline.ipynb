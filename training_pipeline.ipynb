{
 "cells": [
  {
   "cell_type": "markdown",
   "id": "8ff84076-97c0-419a-83c4-a551b89d8e5a",
   "metadata": {},
   "source": [
    "# steps\n",
    "## 1 - deign model (input size, output size, forward pass)\n",
    "## 2 - construct the loss and optimizer\n",
    "## 3 - training loop\n",
    "### - forward pass: compute predictions\n",
    "### - backward pass: gradients\n",
    "### - update weights"
   ]
  },
  {
   "cell_type": "code",
   "execution_count": 1,
   "id": "bf4d5ef3-20b3-4258-9ede-27b8b49a06de",
   "metadata": {},
   "outputs": [],
   "source": [
    "import torch\n",
    "import torch.nn as nn"
   ]
  },
  {
   "cell_type": "code",
   "execution_count": 2,
   "id": "46757fa4-4241-4002-8989-ec04fbb3c783",
   "metadata": {},
   "outputs": [],
   "source": [
    "X = torch.tensor([i for i in range(1, 5)], dtype = torch.float32).view(-1, 1)\n",
    "y = torch.tensor([i * 2 for i in range(1, 5)], dtype = torch.float32).view(-1, 1)"
   ]
  },
  {
   "cell_type": "code",
   "execution_count": 3,
   "id": "a01fc64f-f72b-4b01-9f35-4066ae0c3a93",
   "metadata": {},
   "outputs": [],
   "source": [
    "X_test = torch.tensor([5], dtype = torch.float32)"
   ]
  },
  {
   "cell_type": "code",
   "execution_count": 4,
   "id": "bf1e118c-03cf-4701-8c99-7a19d9e61645",
   "metadata": {},
   "outputs": [
    {
     "data": {
      "text/plain": [
       "(tensor([[1.],\n",
       "         [2.],\n",
       "         [3.],\n",
       "         [4.]]),\n",
       " tensor([[2.],\n",
       "         [4.],\n",
       "         [6.],\n",
       "         [8.]]),\n",
       " tensor([5.]))"
      ]
     },
     "execution_count": 4,
     "metadata": {},
     "output_type": "execute_result"
    }
   ],
   "source": [
    "X, y, X_test"
   ]
  },
  {
   "cell_type": "code",
   "execution_count": 5,
   "id": "c786e77c-4cb3-4a23-a867-7cc21de0a241",
   "metadata": {},
   "outputs": [],
   "source": [
    "n_samples, n_features = X.shape"
   ]
  },
  {
   "cell_type": "code",
   "execution_count": 6,
   "id": "f78e9353-c659-4341-bb36-dd4793f81f97",
   "metadata": {},
   "outputs": [
    {
     "data": {
      "text/plain": [
       "(4, 1)"
      ]
     },
     "execution_count": 6,
     "metadata": {},
     "output_type": "execute_result"
    }
   ],
   "source": [
    "n_samples, n_features"
   ]
  },
  {
   "cell_type": "code",
   "execution_count": 7,
   "id": "a74d5a7e-a78c-4f65-b8ee-e95bd74e5470",
   "metadata": {},
   "outputs": [],
   "source": [
    "output_size = y.shape[1]"
   ]
  },
  {
   "cell_type": "code",
   "execution_count": 8,
   "id": "9f619092-24f6-4910-aa71-b66c4d2124cd",
   "metadata": {},
   "outputs": [
    {
     "data": {
      "text/plain": [
       "1"
      ]
     },
     "execution_count": 8,
     "metadata": {},
     "output_type": "execute_result"
    }
   ],
   "source": [
    "output_size"
   ]
  },
  {
   "cell_type": "code",
   "execution_count": 9,
   "id": "73caec84-37ec-4d0a-9b09-a5822f0c9c11",
   "metadata": {},
   "outputs": [],
   "source": [
    "input_size = n_features\n",
    "output_size = output_size"
   ]
  },
  {
   "cell_type": "code",
   "execution_count": 10,
   "id": "ecac7cb0-b43f-49f2-a47f-78f6da04a9a7",
   "metadata": {},
   "outputs": [],
   "source": [
    "# model = nn.Linear(input_size, output_size)"
   ]
  },
  {
   "cell_type": "code",
   "execution_count": 11,
   "id": "d0e531c7-4e8e-40dd-89e8-3a2a7a83dc7c",
   "metadata": {},
   "outputs": [],
   "source": [
    "class LinearRegression(nn.Module):\n",
    "    def __init__(self, input_dim, output_dim):\n",
    "        super(LinearRegression, self).__init__()\n",
    "        self.linear = nn.Linear(input_dim, output_dim)\n",
    "\n",
    "    def forward(self, x):\n",
    "        return self.linear(x)"
   ]
  },
  {
   "cell_type": "code",
   "execution_count": 12,
   "id": "5e636bb1-527b-4fd8-8711-173f0e068c26",
   "metadata": {},
   "outputs": [],
   "source": [
    "model = LinearRegression(input_size, output_size)"
   ]
  },
  {
   "cell_type": "code",
   "execution_count": 13,
   "id": "683361b0-7ea8-45f6-9795-b20e82cb7446",
   "metadata": {},
   "outputs": [
    {
     "name": "stdout",
     "output_type": "stream",
     "text": [
      "prediction for f(5) before training: -4.118\n"
     ]
    }
   ],
   "source": [
    "print(f\"prediction for f(5) before training: {model(X_test).item():.3f}\")"
   ]
  },
  {
   "cell_type": "code",
   "execution_count": 14,
   "id": "a1d9cbf0-e086-4bbb-b34e-e6e2f2db3de1",
   "metadata": {},
   "outputs": [],
   "source": [
    "learning_rate = 0.01\n",
    "epochs = 100"
   ]
  },
  {
   "cell_type": "code",
   "execution_count": 15,
   "id": "05ae33e2-d759-47b5-b4ad-88d799e22d5c",
   "metadata": {},
   "outputs": [],
   "source": [
    "loss = nn.MSELoss()"
   ]
  },
  {
   "cell_type": "code",
   "execution_count": 16,
   "id": "9105cd7b-be77-4956-a07d-9f61959b961a",
   "metadata": {},
   "outputs": [],
   "source": [
    "optimizer = torch.optim.SGD(model.parameters(), lr = learning_rate)"
   ]
  },
  {
   "cell_type": "code",
   "execution_count": 17,
   "id": "46118e0f-878c-4314-8650-e9ab098042d6",
   "metadata": {},
   "outputs": [
    {
     "name": "stdout",
     "output_type": "stream",
     "text": [
      "Epoch # 10\n",
      "X: tensor([[1.],\n",
      "        [2.],\n",
      "        [3.],\n",
      "        [4.]])\n",
      "y: tensor([[2.],\n",
      "        [4.],\n",
      "        [6.],\n",
      "        [8.]])\n",
      "Predictions: tensor([[1.2561],\n",
      "        [2.7726],\n",
      "        [4.2892],\n",
      "        [5.8057]], grad_fn=<AddmmBackward0>)\n",
      "Loss: 2.450\n",
      "Weight: 1.602\n",
      "Bias: -0.231\n",
      "\n",
      "Epoch # 20\n",
      "X: tensor([[1.],\n",
      "        [2.],\n",
      "        [3.],\n",
      "        [4.]])\n",
      "y: tensor([[2.],\n",
      "        [4.],\n",
      "        [6.],\n",
      "        [8.]])\n",
      "Predictions: tensor([[1.8344],\n",
      "        [3.7803],\n",
      "        [5.7262],\n",
      "        [7.6722]], grad_fn=<AddmmBackward0>)\n",
      "Loss: 0.065\n",
      "Weight: 1.960\n",
      "Bias: -0.107\n",
      "\n",
      "Epoch # 30\n",
      "X: tensor([[1.],\n",
      "        [2.],\n",
      "        [3.],\n",
      "        [4.]])\n",
      "y: tensor([[2.],\n",
      "        [4.],\n",
      "        [6.],\n",
      "        [8.]])\n",
      "Predictions: tensor([[1.9287],\n",
      "        [3.9430],\n",
      "        [5.9573],\n",
      "        [7.9716]], grad_fn=<AddmmBackward0>)\n",
      "Loss: 0.003\n",
      "Weight: 2.016\n",
      "Bias: -0.085\n",
      "\n",
      "Epoch # 40\n",
      "X: tensor([[1.],\n",
      "        [2.],\n",
      "        [3.],\n",
      "        [4.]])\n",
      "y: tensor([[2.],\n",
      "        [4.],\n",
      "        [6.],\n",
      "        [8.]])\n",
      "Predictions: tensor([[1.9452],\n",
      "        [3.9699],\n",
      "        [5.9945],\n",
      "        [8.0191]], grad_fn=<AddmmBackward0>)\n",
      "Loss: 0.001\n",
      "Weight: 2.025\n",
      "Bias: -0.079\n",
      "\n",
      "Epoch # 50\n",
      "X: tensor([[1.],\n",
      "        [2.],\n",
      "        [3.],\n",
      "        [4.]])\n",
      "y: tensor([[2.],\n",
      "        [4.],\n",
      "        [6.],\n",
      "        [8.]])\n",
      "Predictions: tensor([[1.9492],\n",
      "        [3.9748],\n",
      "        [6.0004],\n",
      "        [8.0260]], grad_fn=<AddmmBackward0>)\n",
      "Loss: 0.001\n",
      "Weight: 2.026\n",
      "Bias: -0.076\n",
      "\n",
      "Epoch # 60\n",
      "X: tensor([[1.],\n",
      "        [2.],\n",
      "        [3.],\n",
      "        [4.]])\n",
      "y: tensor([[2.],\n",
      "        [4.],\n",
      "        [6.],\n",
      "        [8.]])\n",
      "Predictions: tensor([[1.9510],\n",
      "        [3.9762],\n",
      "        [6.0013],\n",
      "        [8.0265]], grad_fn=<AddmmBackward0>)\n",
      "Loss: 0.001\n",
      "Weight: 2.025\n",
      "Bias: -0.074\n",
      "\n",
      "Epoch # 70\n",
      "X: tensor([[1.],\n",
      "        [2.],\n",
      "        [3.],\n",
      "        [4.]])\n",
      "y: tensor([[2.],\n",
      "        [4.],\n",
      "        [6.],\n",
      "        [8.]])\n",
      "Predictions: tensor([[1.9526],\n",
      "        [3.9770],\n",
      "        [6.0014],\n",
      "        [8.0259]], grad_fn=<AddmmBackward0>)\n",
      "Loss: 0.001\n",
      "Weight: 2.024\n",
      "Bias: -0.072\n",
      "\n",
      "Epoch # 80\n",
      "X: tensor([[1.],\n",
      "        [2.],\n",
      "        [3.],\n",
      "        [4.]])\n",
      "y: tensor([[2.],\n",
      "        [4.],\n",
      "        [6.],\n",
      "        [8.]])\n",
      "Predictions: tensor([[1.9540],\n",
      "        [3.9777],\n",
      "        [6.0014],\n",
      "        [8.0251]], grad_fn=<AddmmBackward0>)\n",
      "Loss: 0.001\n",
      "Weight: 2.024\n",
      "Bias: -0.070\n",
      "\n",
      "Epoch # 90\n",
      "X: tensor([[1.],\n",
      "        [2.],\n",
      "        [3.],\n",
      "        [4.]])\n",
      "y: tensor([[2.],\n",
      "        [4.],\n",
      "        [6.],\n",
      "        [8.]])\n",
      "Predictions: tensor([[1.9553],\n",
      "        [3.9784],\n",
      "        [6.0014],\n",
      "        [8.0244]], grad_fn=<AddmmBackward0>)\n",
      "Loss: 0.001\n",
      "Weight: 2.023\n",
      "Bias: -0.067\n",
      "\n",
      "Epoch # 100\n",
      "X: tensor([[1.],\n",
      "        [2.],\n",
      "        [3.],\n",
      "        [4.]])\n",
      "y: tensor([[2.],\n",
      "        [4.],\n",
      "        [6.],\n",
      "        [8.]])\n",
      "Predictions: tensor([[1.9566],\n",
      "        [3.9790],\n",
      "        [6.0013],\n",
      "        [8.0237]], grad_fn=<AddmmBackward0>)\n",
      "Loss: 0.001\n",
      "Weight: 2.022\n",
      "Bias: -0.066\n",
      "\n"
     ]
    }
   ],
   "source": [
    "for epoch in range(1, epochs + 1):\n",
    "    predictions = model(X)\n",
    "    l = loss(predictions, y)\n",
    "    l.backward() # dl/dw\n",
    "    optimizer.step() # optimization step, updates weights\n",
    "    optimizer.zero_grad() # set the weight to zero\n",
    "    if epoch % 10 == 0:\n",
    "        print(f\"Epoch # {epoch}\")\n",
    "        print(f\"X: {X}\")\n",
    "        print(f\"y: {y}\")\n",
    "        print(f\"Predictions: {predictions}\")\n",
    "        print(f\"Loss: {l:.3f}\")\n",
    "        [weight, bias] = model.parameters()\n",
    "        print(f\"Weight: {weight[0][0].item():.3f}\")\n",
    "        print(f\"Bias: {bias[0].item():.3f}\")\n",
    "        print()"
   ]
  },
  {
   "cell_type": "code",
   "execution_count": 18,
   "id": "2ecb0890-a357-480f-8eed-217b4ca97199",
   "metadata": {},
   "outputs": [
    {
     "name": "stdout",
     "output_type": "stream",
     "text": [
      "prediction for f(5) before training: 10.046\n"
     ]
    }
   ],
   "source": [
    "print(f\"prediction for f(5) before training: {model(X_test).item():.3f}\")"
   ]
  },
  {
   "cell_type": "code",
   "execution_count": null,
   "id": "f45d3d63-770f-4a70-884e-3cad2041343d",
   "metadata": {},
   "outputs": [],
   "source": []
  }
 ],
 "metadata": {
  "kernelspec": {
   "display_name": "Python 3 (ipykernel)",
   "language": "python",
   "name": "python3"
  },
  "language_info": {
   "codemirror_mode": {
    "name": "ipython",
    "version": 3
   },
   "file_extension": ".py",
   "mimetype": "text/x-python",
   "name": "python",
   "nbconvert_exporter": "python",
   "pygments_lexer": "ipython3",
   "version": "3.12.2"
  }
 },
 "nbformat": 4,
 "nbformat_minor": 5
}
